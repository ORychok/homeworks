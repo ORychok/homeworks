{
  "nbformat": 4,
  "nbformat_minor": 0,
  "metadata": {
    "colab": {
      "provenance": [],
      "include_colab_link": true
    },
    "kernelspec": {
      "name": "python3",
      "display_name": "Python 3"
    },
    "language_info": {
      "name": "python"
    }
  },
  "cells": [
    {
      "cell_type": "markdown",
      "metadata": {
        "id": "view-in-github",
        "colab_type": "text"
      },
      "source": [
        "<a href=\"https://colab.research.google.com/github/ORychok/homeworks/blob/main/Rychok_%22hw_6_1_%D0%9E%D1%81%D0%BD%D0%BE%D0%B2%D0%B8_%D1%81%D1%82%D0%B0%D1%82%D0%B8%D1%81%D1%82%D0%B8%D0%BA%D0%B8_ipynb%22.ipynb\" target=\"_parent\"><img src=\"https://colab.research.google.com/assets/colab-badge.svg\" alt=\"Open In Colab\"/></a>"
      ]
    },
    {
      "cell_type": "markdown",
      "source": [
        "В цьому домашньому завданні відпрацюємо з вами знання, отримані в модулі зі статистики.\n",
        "\n",
        "**Завдання 1.** Ми обговорили з Вами на лекції, що велика літера Сігма грецького алфавіту позначає в математиці суму. Знайдіть з використанням Python $\\Sigma x$, $\\Sigma x^2$, та $\\Sigma (x-1)^2$ для наступного набору даних:\n",
        "`1 3 4`\n",
        "Виведіть результат кожного обчислення на екран."
      ],
      "metadata": {
        "id": "SDhaTqxcWhnP"
      }
    },
    {
      "cell_type": "code",
      "source": [
        "data = [1, 3, 4]\n",
        "\n",
        "sum_x = sum(data)\n",
        "\n",
        "sum_x2 = sum([x**2 for x in data])\n",
        "\n",
        "sum_diff_squares = sum([(x-1)**2 for x in data])\n",
        "\n",
        "print(\"Σ𝑥 =\", sum_x)\n",
        "print(\"Σ𝑥2 =\", sum_x2)\n",
        "print(\"Σ(𝑥−1)2 =\", sum_diff_squares)"
      ],
      "metadata": {
        "id": "B1mgx_IBT0e8",
        "colab": {
          "base_uri": "https://localhost:8080/"
        },
        "outputId": "0419423f-5c83-4040-f40a-87c4335840ce"
      },
      "execution_count": null,
      "outputs": [
        {
          "output_type": "stream",
          "name": "stdout",
          "text": [
            "Σ𝑥 = 8\n",
            "Σ𝑥2 = 26\n",
            "Σ(𝑥−1)2 = 13\n"
          ]
        }
      ]
    },
    {
      "cell_type": "markdown",
      "source": [
        "**Завдання 2.** Ми зібрали дані про суму покупок в гривнях 20ма випадково обраними клієнтами в нашому магазині (всього клієнтів у нас більше) за минулий місяць. Вони представлені в змінній `sum_purchases`. Знайдіть **вибіркове середнє** для цих даних кожним з зазначених методів:   \n",
        "\n",
        "  2.1. без використання жодних бібліотек, користуючись тільки Python.  \n",
        "  2.2. використовуючи відповідний метод бібліотеки `numpy`.\n",
        "\n",
        "  Виведіть результат обчислень в кожному з випадків на екран та порівняйте результати. Вони співпадають?"
      ],
      "metadata": {
        "id": "fa78aW5lhiia"
      }
    },
    {
      "cell_type": "code",
      "execution_count": null,
      "metadata": {
        "id": "_9kMt3rq6V5m"
      },
      "outputs": [],
      "source": [
        "sum_purchases = [ 316,  493,  367,  153,  224,  121,  322,  450,  196,  397,  281,\n",
        "  239,  484,  124,  223,  448,  432,  255, 4310, 3524]"
      ]
    },
    {
      "cell_type": "code",
      "source": [
        "sample_mean = sum(sum_purchases) / len(sum_purchases)\n",
        "print(\"Вибіркове середнє (без використання бібліотеки):\", sample_mean)"
      ],
      "metadata": {
        "id": "wPmL919HT1c0",
        "colab": {
          "base_uri": "https://localhost:8080/"
        },
        "outputId": "b88ed1fe-e5a5-4f6c-ec00-54c08f0d5df0"
      },
      "execution_count": null,
      "outputs": [
        {
          "output_type": "stream",
          "name": "stdout",
          "text": [
            "Вибіркове середнє (без використання бібліотеки): 667.95\n"
          ]
        }
      ]
    },
    {
      "cell_type": "code",
      "source": [
        "import numpy as np\n",
        "sample_mean_np = np.mean(sum_purchases)\n",
        "print(\"Вибіркове середнє (з використанням бібліотеки numpy):\", sample_mean_np)"
      ],
      "metadata": {
        "colab": {
          "base_uri": "https://localhost:8080/"
        },
        "id": "pNs5QgPVL4JP",
        "outputId": "9cdb3454-99eb-4f92-a20c-29b287488fed"
      },
      "execution_count": null,
      "outputs": [
        {
          "output_type": "stream",
          "name": "stdout",
          "text": [
            "Вибіркове середнє (з використанням бібліотеки numpy): 667.95\n"
          ]
        }
      ]
    },
    {
      "cell_type": "markdown",
      "source": [
        "**В даному випадку результати співпали.**"
      ],
      "metadata": {
        "id": "iog5Fx70MDhG"
      }
    },
    {
      "cell_type": "markdown",
      "source": [
        "**Завдання 3.** Для того ж набору даних в змінній `sum_purchases` обчисліть **медіану** кожним з зазначених методів:  \n",
        "\n",
        "  3.1. без використання жодних бібліотек, користуючись тільки Python.  \n",
        "  3.2. використовуючи відповідний метод бібліотеки numpy.  \n",
        "\n",
        "Виведіть результат обчислень в кожному з випадків на екран. Порівняйте результати зі значенням вибіркового середнього. Напишіть коментар, для яких задач ви б використовували вибіркове середнє, а для яких - медіану?"
      ],
      "metadata": {
        "id": "FMdoxZd0kZdW"
      }
    },
    {
      "cell_type": "code",
      "source": [
        "sorted_purchases = sorted(sum_purchases)\n",
        "\n",
        "# Обчислення медіани\n",
        "n = len(sorted_purchases)\n",
        "if n % 2 == 0:\n",
        "    median = (sorted_purchases[n//2 - 1] + sorted_purchases[n//2]) / 2\n",
        "else:\n",
        "    median = sorted_purchases[n//2]\n",
        "\n",
        "print(\"Медіана (без використання бібліотеки):\", median)"
      ],
      "metadata": {
        "id": "x58BumvuT2nl",
        "colab": {
          "base_uri": "https://localhost:8080/"
        },
        "outputId": "18d72658-b62d-4e3c-b2a4-70e783818027"
      },
      "execution_count": null,
      "outputs": [
        {
          "output_type": "stream",
          "name": "stdout",
          "text": [
            "Медіана (без використання бібліотеки): 319.0\n"
          ]
        }
      ]
    },
    {
      "cell_type": "code",
      "source": [
        "median_np = np.median(sum_purchases)\n",
        "print(\"Медіана (з використанням бібліотеки numpy):\", median_np)"
      ],
      "metadata": {
        "colab": {
          "base_uri": "https://localhost:8080/"
        },
        "id": "UhQXHeW3MNxF",
        "outputId": "f8ae678a-4ef7-422e-ebab-435930f54c8b"
      },
      "execution_count": null,
      "outputs": [
        {
          "output_type": "stream",
          "name": "stdout",
          "text": [
            "Медіана (з використанням бібліотеки numpy): 319.0\n"
          ]
        }
      ]
    },
    {
      "cell_type": "markdown",
      "source": [
        "Я люблю порахувати для вибірки і середнє, і медіану. І після цбого зрозуміти наскільки дані skewed to the left / right, побудувати додатково графік розподілу даних.\n",
        "Я вважаю, що корисно порахувати і те, і те."
      ],
      "metadata": {
        "id": "xhv-UsNuMmoZ"
      }
    },
    {
      "cell_type": "markdown",
      "source": [
        "**Завдання 4**. Обчислість стандартне відхилення наведеної вибірки в змінній `sum_purchases` кожним з зазначених методів:  \n",
        "\n",
        "  4.1. без використання жодних бібліотек, користуючись тільки Python.  \n",
        "  4.2. використовуючи відповідний метод бібліотеки numpy.  \n",
        "\n",
        "Виведіть результат обчислень в кожному з випадків на екран."
      ],
      "metadata": {
        "id": "o1Z7az2yNDQV"
      }
    },
    {
      "cell_type": "code",
      "source": [
        "squared_diff = [(x - sample_mean) ** 2 for x in sum_purchases]\n",
        "sum_squared_diff = sum(squared_diff)\n",
        "std_dev = (sum_squared_diff / len(sum_purchases)) ** 0.5\n",
        "\n",
        "print(\"Стандартне відхилення (без використання бібліотеки):\", std_dev)"
      ],
      "metadata": {
        "id": "X4ixtmL2T642",
        "colab": {
          "base_uri": "https://localhost:8080/"
        },
        "outputId": "91c2dbad-d4f8-4470-81f3-92bea41506cb"
      },
      "execution_count": null,
      "outputs": [
        {
          "output_type": "stream",
          "name": "stdout",
          "text": [
            "Стандартне відхилення (без використання бібліотеки): 1096.0692713054227\n"
          ]
        }
      ]
    },
    {
      "cell_type": "code",
      "source": [
        "std_dev_np = np.std(sum_purchases)\n",
        "print(\"Стандартне відхилення (з використанням бібліотеки numpy):\", std_dev_np)\n"
      ],
      "metadata": {
        "colab": {
          "base_uri": "https://localhost:8080/"
        },
        "id": "NA6as5gdNOHw",
        "outputId": "295330be-db21-4263-ea91-31dc1981bbb8"
      },
      "execution_count": null,
      "outputs": [
        {
          "output_type": "stream",
          "name": "stdout",
          "text": [
            "Стандартне відхилення (з використанням бібліотеки numpy): 1096.0692713054227\n"
          ]
        }
      ]
    },
    {
      "cell_type": "markdown",
      "source": [
        "**Завдання 5**. Ми провели дослідження віку студентів-першокурсників. Виявилось, що\n",
        "- 10 студентів мають вік 16 років\n",
        "- 25 студентів - 17 років\n",
        "- 20 студентів - 18 років\n",
        "- 2 студенти - 20 років\n",
        "\n",
        "Обчислість середнє значення для цієї вибірки будь-яким способом - на чистому Python або з numpy - та виведіть результат на екран."
      ],
      "metadata": {
        "id": "M1ntKTjXLVlH"
      }
    },
    {
      "cell_type": "code",
      "source": [
        "age_mean = (10*16 + 25*17 + 20*18 + 2*20) / 57\n",
        "age_mean"
      ],
      "metadata": {
        "id": "RdIU4M-7T8R4",
        "colab": {
          "base_uri": "https://localhost:8080/"
        },
        "outputId": "acf4920c-72f8-4bff-c344-7c506489fdb0"
      },
      "execution_count": null,
      "outputs": [
        {
          "output_type": "execute_result",
          "data": {
            "text/plain": [
              "17.280701754385966"
            ]
          },
          "metadata": {},
          "execution_count": 9
        }
      ]
    },
    {
      "cell_type": "markdown",
      "source": [
        "**Завдання 6**. Крім даних про суму покупок, ми зібрали ще дані про кількість відвідувань кожного з кожного покупця, які знаходяться в змінній `visits`. Обчисліть коефіцієнт кореляції Пірсона для суми покупок і кількості відвідувань кожним з зазначених методів:  \n",
        "\n",
        "  6.1. без використання жодних бібліотек, користуючись тільки Python.  \n",
        "  6.2. використовуючи відповідний метод бібліотеки numpy.  \n",
        "  \n",
        "Виведіть результат на екран. Проаналізуйте результат.\n",
        "\n",
        "Виведіть додатково графік розсіювання викликавши код нижче і зробіть заключення, чи варто щось змінити при підрахунку кореляції, аби коефіцієнт Пірсона показував коректну оцінку лінійної залежності?"
      ],
      "metadata": {
        "id": "Xx8MFkkVM53z"
      }
    },
    {
      "cell_type": "code",
      "source": [
        "visits = [ 6,  2, 10,  3,  9,  9,  2,  3,  6,  6, 10,  2,  5, 10,  3,  5,  4,\n",
        "        7,  4,  2]"
      ],
      "metadata": {
        "id": "4OIGBT7UOWhO"
      },
      "execution_count": null,
      "outputs": []
    },
    {
      "cell_type": "code",
      "source": [
        "mean_sum_purchases = sum(sum_purchases) / len(sum_purchases)\n",
        "mean_visits = sum(visits) / len(visits)\n",
        "\n",
        "numerator = sum((x - mean_sum_purchases) * (y - mean_visits) for x, y in zip(sum_purchases, visits))\n",
        "denom_sum_purchases = sum((x - mean_sum_purchases)**2 for x in sum_purchases)\n",
        "denom_visits = sum((y - mean_visits)**2 for y in visits)\n",
        "correlation_coefficient = numerator / ((denom_sum_purchases * denom_visits)**0.5)\n",
        "\n",
        "print(\"Коефіцієнт кореляції Пірсона (без використання бібліотеки):\", correlation_coefficient)"
      ],
      "metadata": {
        "id": "YLNF7VbeT97Q",
        "colab": {
          "base_uri": "https://localhost:8080/"
        },
        "outputId": "4c6c5d8a-742f-40ee-be45-757c3976b5fa"
      },
      "execution_count": null,
      "outputs": [
        {
          "output_type": "stream",
          "name": "stdout",
          "text": [
            "Коефіцієнт кореляції Пірсона (без використання бібліотеки): -0.3026584468766646\n"
          ]
        }
      ]
    },
    {
      "cell_type": "code",
      "source": [
        "correlation_coefficient_np = np.corrcoef(sum_purchases, visits)[0][1]\n",
        "print(\"Коефіцієнт кореляції Пірсона (з використанням бібліотеки numpy):\", correlation_coefficient_np)"
      ],
      "metadata": {
        "colab": {
          "base_uri": "https://localhost:8080/"
        },
        "id": "LwjOHi5-OA6t",
        "outputId": "738540bf-9b6b-4b71-826e-0800b30a8546"
      },
      "execution_count": null,
      "outputs": [
        {
          "output_type": "stream",
          "name": "stdout",
          "text": [
            "Коефіцієнт кореляції Пірсона (з використанням бібліотеки numpy): -0.3026584468766646\n"
          ]
        }
      ]
    },
    {
      "cell_type": "markdown",
      "source": [
        "В даному випадку результати співпали. Спостерігаємо слабку негативну кореляцію."
      ],
      "metadata": {
        "id": "tsmKGh3tOs77"
      }
    },
    {
      "cell_type": "code",
      "source": [
        "import matplotlib.pyplot as plt\n",
        "\n",
        "plt.scatter(sum_purchases, visits)\n",
        "plt.title('Scatter Plot of Purchases vs. Visits')\n",
        "plt.xlabel('Sum of Purchases')\n",
        "plt.ylabel('Number of Visits');"
      ],
      "metadata": {
        "colab": {
          "base_uri": "https://localhost:8080/",
          "height": 472
        },
        "id": "gaeoGA-5Prr1",
        "outputId": "bea26ffb-0d8a-4f23-9909-9b9844bbfe23"
      },
      "execution_count": null,
      "outputs": [
        {
          "output_type": "display_data",
          "data": {
            "text/plain": [
              "<Figure size 640x480 with 1 Axes>"
            ],
            "image/png": "[encoded data removed]"
          },
          "metadata": {}
        }
      ]
    },
    {
      "cell_type": "markdown",
      "source": [
        "Чи варто щось змінити при підрахунку кореляції, аби коефіцієнт Пірсона показував коректну оцінку лінійної залежності?\n",
        "\n",
        "Можна порахувати без outliers (викидів).\n",
        "\n",
        "Було б круто мати більше даних!!!)"
      ],
      "metadata": {
        "id": "2fastGbhO87y"
      }
    },
    {
      "cell_type": "markdown",
      "source": [
        "**Завдання 7**. В попередньому завданні ми помітили, що викиди нам заважають отримати \"правдиве\" значення кореляції. Давайте вилучимо записи, які відповідають значенням з викидами в сумі покупок і обчисліть коеф. кореляції. Для цього поставте `threshold`, який дорінює середньому значенню + 2 стандартних вдіхилля суми покупок і всі значення, які більше за нього, будемо вважати викидами (є і інші правила для визначення викидів - з ним и познайомимось пізніше).\n",
        "\n",
        "Вилучіть значення з обох масивів і обчисліть коеф. кореляції Пірсона з допомогою `numpy` для кількості візитів і суми покупок без записів-викидів. Виведіть результат на екран, побудуйте діаграму розсіювання і проаналізуйте результат: що можемо сказати про залежність в даних?"
      ],
      "metadata": {
        "id": "4pEg0KzSQ6KA"
      }
    },
    {
      "cell_type": "code",
      "source": [
        "# Визначення threshold для викидів\n",
        "threshold = sample_mean_np + 2 * std_dev_np\n",
        "\n",
        "# Вилучення значень, які є викидами\n",
        "filtered_sum_purchases = [x for x in sum_purchases if x <= threshold]\n",
        "filtered_visits = [visits[i] for i in range(len(sum_purchases)) if sum_purchases[i] <= threshold]\n",
        "\n",
        "# Обчислення коефіцієнта кореляції Пірсона за допомогою numpy для відфільтрованих даних\n",
        "correlation_coefficient_filtered = np.corrcoef(filtered_sum_purchases, filtered_visits)[0][1]\n",
        "\n",
        "print(\"Коефіцієнт кореляції Пірсона після фільтрації викидів:\", correlation_coefficient_filtered)\n",
        "\n",
        "# Побудова діаграми розсіювання\n",
        "plt.scatter(filtered_sum_purchases, filtered_visits)\n",
        "plt.xlabel('Сума покупок')\n",
        "plt.ylabel('Кількість відвідувань')\n",
        "plt.title('Графік розсіювання без викидів')\n",
        "plt.show()"
      ],
      "metadata": {
        "id": "Yj3Yfaf7UBbc",
        "colab": {
          "base_uri": "https://localhost:8080/",
          "height": 490
        },
        "outputId": "676cb1f9-a137-4a9d-dbb2-2610b88a1904"
      },
      "execution_count": null,
      "outputs": [
        {
          "output_type": "stream",
          "name": "stdout",
          "text": [
            "Коефіцієнт кореляції Пірсона після фільтрації викидів: -0.3685212078127798\n"
          ]
        },
        {
          "output_type": "display_data",
          "data": {
            "text/plain": [
              "<Figure size 640x480 with 1 Axes>"
            ],
            "image/png": "[encoded data removed]"
          },
          "metadata": {}
        }
      ]
    },
    {
      "cell_type": "markdown",
      "source": [
        "Після обчислень без викидів все ще спостерігаємо слабку негативну кореляцію. Тому рекомендація отримати більше даних."
      ],
      "metadata": {
        "id": "nJb77C-oQJpZ"
      }
    }
  ]
}