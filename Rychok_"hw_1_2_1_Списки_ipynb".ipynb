{
  "nbformat": 4,
  "nbformat_minor": 0,
  "metadata": {
    "colab": {
      "provenance": [],
      "include_colab_link": true
    },
    "kernelspec": {
      "name": "python3",
      "display_name": "Python 3"
    },
    "language_info": {
      "name": "python"
    }
  },
  "cells": [
    {
      "cell_type": "markdown",
      "metadata": {
        "id": "view-in-github",
        "colab_type": "text"
      },
      "source": [
        "<a href=\"https://colab.research.google.com/github/ORychok/homeworks/blob/main/Rychok_%22hw_1_2_1_%D0%A1%D0%BF%D0%B8%D1%81%D0%BA%D0%B8_ipynb%22.ipynb\" target=\"_parent\"><img src=\"https://colab.research.google.com/assets/colab-badge.svg\" alt=\"Open In Colab\"/></a>"
      ]
    },
    {
      "cell_type": "markdown",
      "source": [
        "#Домашнє завдання до теми \"Списки\""
      ],
      "metadata": {
        "id": "XO6mRLe59D3H"
      }
    },
    {
      "cell_type": "markdown",
      "source": [
        "У нас є наступний список:"
      ],
      "metadata": {
        "id": "RK9HC3UZZ8HZ"
      }
    },
    {
      "cell_type": "code",
      "execution_count": 38,
      "metadata": {
        "id": "7eOLd__FZyZp"
      },
      "outputs": [],
      "source": [
        "my_list = [\n",
        "    78, 12, 14, 27, 47, 28, 51, 46, 94, 37, 42, 20, 52, 33, 11, 11, 51,\n",
        "    20, 81, 54, 86, 51, 38, 42, 49, 99, 76, 17,  9, 23, 97, 29, 29, 63,\n",
        "    40, 11, 31, 76, 15, 21, 29, 75, 35,  2, 10, 71, 17, 10, 13,  7, 44,\n",
        "    12, 19, 61, 13, 25, 62, 46, 10, 44, 75, 57, 20, 57,  3, 44, 16, 28,\n",
        "    79, 57, 62, 70, 95,  8, 47, 82, 80, 45, 36, 44, 79, 95, 73, 42, 29,\n",
        "    83, 80, 66, 56,  8, 73,  5, 99, 65, 65, 98, 17, 36, 16, 60\n",
        "]"
      ]
    },
    {
      "cell_type": "markdown",
      "source": [
        "Будемо з ним працювати в наступних завданнях."
      ],
      "metadata": {
        "id": "xRqI75kkZ_2A"
      }
    },
    {
      "cell_type": "markdown",
      "source": [
        "1. Виведіть 5 перших елементів списку `my_list` з допомогою слайсингу."
      ],
      "metadata": {
        "id": "MOuwDHIdaC3O"
      }
    },
    {
      "cell_type": "code",
      "source": [
        "my_list[0:5]"
      ],
      "metadata": {
        "id": "Uypwuc8wZ_T2",
        "colab": {
          "base_uri": "https://localhost:8080/"
        },
        "outputId": "6cfd40af-707a-4792-9fa3-ca87150cde7b"
      },
      "execution_count": 39,
      "outputs": [
        {
          "output_type": "execute_result",
          "data": {
            "text/plain": [
              "[78, 12, 14, 27, 47]"
            ]
          },
          "metadata": {},
          "execution_count": 39
        }
      ]
    },
    {
      "cell_type": "markdown",
      "source": [
        "Очікувана відповідь: [78, 12, 14, 27, 47]"
      ],
      "metadata": {
        "id": "b5IeUxDHaGkb"
      }
    },
    {
      "cell_type": "markdown",
      "source": [
        "2. Виведіть 3 останніх елементи списку `my_list` з допомогою слайсингу."
      ],
      "metadata": {
        "id": "bNqAZFcJaJDR"
      }
    },
    {
      "cell_type": "code",
      "source": [
        "my_list[-3:]"
      ],
      "metadata": {
        "id": "15lgbiA4aIb3",
        "colab": {
          "base_uri": "https://localhost:8080/"
        },
        "outputId": "4c5adb84-61e8-4656-9c2d-6ed91d86e946"
      },
      "execution_count": 40,
      "outputs": [
        {
          "output_type": "execute_result",
          "data": {
            "text/plain": [
              "[36, 16, 60]"
            ]
          },
          "metadata": {},
          "execution_count": 40
        }
      ]
    },
    {
      "cell_type": "markdown",
      "source": [
        "3. Відсортуйте за зростанням список `my_list`, запишіть результат у змінну `my_list_sorted` та виведіть значення нової змінної на екран."
      ],
      "metadata": {
        "id": "SGhwxnmXaR3S"
      }
    },
    {
      "cell_type": "code",
      "source": [
        "my_list_sorted = sorted(my_list)\n",
        "print(my_list_sorted)"
      ],
      "metadata": {
        "id": "IKgCwCIbaTpf",
        "colab": {
          "base_uri": "https://localhost:8080/"
        },
        "outputId": "87c1071e-63a9-4341-9ec5-22a9717d8312"
      },
      "execution_count": 41,
      "outputs": [
        {
          "output_type": "stream",
          "name": "stdout",
          "text": [
            "[2, 3, 5, 7, 8, 8, 9, 10, 10, 10, 11, 11, 11, 12, 12, 13, 13, 14, 15, 16, 16, 17, 17, 17, 19, 20, 20, 20, 21, 23, 25, 27, 28, 28, 29, 29, 29, 29, 31, 33, 35, 36, 36, 37, 38, 40, 42, 42, 42, 44, 44, 44, 44, 45, 46, 46, 47, 47, 49, 51, 51, 51, 52, 54, 56, 57, 57, 57, 60, 61, 62, 62, 63, 65, 65, 66, 70, 71, 73, 73, 75, 75, 76, 76, 78, 79, 79, 80, 80, 81, 82, 83, 86, 94, 95, 95, 97, 98, 99, 99]\n"
          ]
        }
      ]
    },
    {
      "cell_type": "markdown",
      "source": [
        "4. Виведіть максимальний і мінімальний елемент у списку `my_list`. Сформуйте відповідь у наступному форматі\n",
        "```\n",
        "Max element  <число>\n",
        "Min element  <число>\n",
        "```\n",
        "Можна скористатись результатом з попереднього завдання, або спеціальними фукнціями."
      ],
      "metadata": {
        "id": "UuOFdraAaZhF"
      }
    },
    {
      "cell_type": "code",
      "source": [
        "max_element = max(my_list)\n",
        "min_element = min(my_list)\n",
        "print('Max element', max_element,'\\nMin element', min_element\n",
        ")"
      ],
      "metadata": {
        "id": "w50-Lpjsarg3",
        "colab": {
          "base_uri": "https://localhost:8080/"
        },
        "outputId": "48a21694-8955-4d60-c8b8-2cc146add4eb"
      },
      "execution_count": 42,
      "outputs": [
        {
          "output_type": "stream",
          "name": "stdout",
          "text": [
            "Max element 99 \n",
            "Min element 2\n"
          ]
        }
      ]
    },
    {
      "cell_type": "markdown",
      "source": [
        "Очікувана відповідь:\n",
        "\n",
        "```\n",
        "Max element  99\n",
        "Min element  2\n",
        "```"
      ],
      "metadata": {
        "id": "VeS0Lr88apNZ"
      }
    },
    {
      "cell_type": "markdown",
      "source": [
        "5. Створіть новий список `my_list_2`, який містить кожен 11-й елемент списку `my_list`. Виведіть `my_list_2` на екран.  \n",
        "Памʼятаємо, що перший з \"кожного одинадцятого елементу\" списку має індекс 10.\n",
        "Для виконання завдання використайте слайсинг."
      ],
      "metadata": {
        "id": "4xnVzP4fakvm"
      }
    },
    {
      "cell_type": "code",
      "source": [
        "my_list_2 = my_list[10::11]\n",
        "my_list_2"
      ],
      "metadata": {
        "id": "DtOkWvVgaas0",
        "colab": {
          "base_uri": "https://localhost:8080/"
        },
        "outputId": "6bd72984-65d7-4193-a2f3-7e6427b9c93c"
      },
      "execution_count": 43,
      "outputs": [
        {
          "output_type": "execute_result",
          "data": {
            "text/plain": [
              "[42, 51, 29, 2, 13, 44, 80, 66, 16]"
            ]
          },
          "metadata": {},
          "execution_count": 43
        }
      ]
    },
    {
      "cell_type": "markdown",
      "source": [
        "Очікуваний результат: `[42, 51, 29, 2, 13, 44, 80, 66, 16]`"
      ],
      "metadata": {
        "id": "A-A6Mw_UbR8T"
      }
    }
  ]
}