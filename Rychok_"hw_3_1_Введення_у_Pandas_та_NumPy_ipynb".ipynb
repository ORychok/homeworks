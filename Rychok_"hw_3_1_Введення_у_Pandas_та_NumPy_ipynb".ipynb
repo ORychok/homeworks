{
  "nbformat": 4,
  "nbformat_minor": 0,
  "metadata": {
    "colab": {
      "provenance": [],
      "include_colab_link": true
    },
    "kernelspec": {
      "name": "python3",
      "display_name": "Python 3"
    },
    "language_info": {
      "name": "python"
    }
  },
  "cells": [
    {
      "cell_type": "markdown",
      "metadata": {
        "id": "view-in-github",
        "colab_type": "text"
      },
      "source": [
        "<a href=\"https://colab.research.google.com/github/ORychok/homeworks/blob/main/Rychok_%22hw_3_1_%D0%92%D0%B2%D0%B5%D0%B4%D0%B5%D0%BD%D0%BD%D1%8F_%D1%83_Pandas_%D1%82%D0%B0_NumPy_ipynb%22.ipynb\" target=\"_parent\"><img src=\"https://colab.research.google.com/assets/colab-badge.svg\" alt=\"Open In Colab\"/></a>"
      ]
    },
    {
      "cell_type": "markdown",
      "metadata": {
        "id": "6bbb4b6a"
      },
      "source": [
        "# Домашнє завдання до теми \"Введення у Pandas та NumPy\""
      ]
    },
    {
      "cell_type": "markdown",
      "metadata": {
        "id": "7ef4e602"
      },
      "source": [
        "У домашніх завданнях цього модулю ми працюємо з набором даних про продажі в різних магазинах мережі супермаркетів.\n",
        "\n",
        "## Контекст даних\n",
        "Зростання супермаркетів у найбільш населених містах збільшується, а конкуренція на ринку також висока. Набір даних є вигрузкою історичних продажів компанії-мережі супермаркетів у 3х різних філіях протягом 3 місяців.\n",
        "\n",
        "**Ціль:** Цей набір даних може бути використаний для цілей розуміння тенденцій продажів, які товари в якому місті варто продавати, а поставку яких - варто скоротити. На основі цих даних можна оцінити майбутні тенденції продажів, оцінити поведінку споживачів та оптимізувати стратегію продажів.\n",
        "\n",
        "Ми будемо робити елементи аналізу в цьому напрямі.\n",
        "\n",
        "## Опис даних\n",
        "\n",
        "| Назва оригінальна           | Переклад назви             | Опис українською                                                                                       |\n",
        "|---------------------------|--------------------------|-----------------------------------------------------------------------------------------------------|\n",
        "| Invoice id                | Ідентифікатор чека       | Комп’ютерно генерований номер ідентифікації чека продажу                                             |\n",
        "| Branch                    | Філія                    | Філія супермаркету (доступні 3 філії, ідентифіковані як A, B та C)                                     |\n",
        "| City                      | Місто                    | Місцезнаходження суперцентрів                                                                        |\n",
        "| Customer type             | Тип клієнта              | Тип клієнтів, зафіксований як Члени для клієнтів, що використовують картку члена, та Звичайні без картки |\n",
        "| Gender                    | Стать                    | Стать покупця                                                                                       |\n",
        "| Product line              | Лінійка продуктів        | Загальні групи категоризації товарів - Електронні аксесуари, Модні аксесуари, Їжа та напої, Здоров’я та краса, Дім і стиль життя, Спорт та подорожі |\n",
        "| Unit price                | Ціна за одиницю          | Ціна кожного продукту в доларах США                                                                  |\n",
        "| Quantity                  | Кількість                | Кількість продуктів, придбаних клієнтом                                                             |\n",
        "| Tax                       | Податок                  | 5% податковий збір для покупця                                                                       |\n",
        "| Total                     | Загальна сума            | Загальна ціна з урахуванням податку                                                                  |\n",
        "| Date                      | Дата                     | Дата покупки (Дані доступні з січня 2019 по березень 2019)                                           |\n",
        "| Time                      | Час                      | Час покупки (з 10:00 до 21:00)                                                                       |\n",
        "| Payment                   | Оплата                   | Метод оплати, використаний клієнтом для покупки (доступні 3 методи – Готівка, Кредитна картка та Електронний гаманець) |\n",
        "| COGS                      | Собівартість проданих товарів | Собівартість проданих товарів                                                                      |\n",
        "| Gross margin percentage   | Відсоток валового прибутку | Відсоток валового прибутку                                                                         |\n",
        "| Gross income              | Валовий дохід            | Валовий дохід                                                                                       |\n",
        "| Rating                    | Рейтинг                  | Рейтинг задоволення клієнтів від загального досвіду покупок (На шкалі від 1 до 10)                    |\n",
        "\n",
        "\n",
        "## Робота з даними в рамках завдань цього модулю\n",
        "\n",
        "Завантажте дані з навчальної платформи собі локально. Як найркаще організувати збереження даних і ноутбуків було наведено в лекції. Якщо Ви працюєте в Colab - то рекомендую або розмістити дані у себе на диску і підключити диск (`Files` -> `Mount Drive`) або перетягнути дані в `Files` на робочу сесію і читати звідти.\n",
        "\n",
        "Дані ми НЕ заливаємо зазвичай в git, особливо якщо вони більше 10мб - це погана практика. Ліпше залити на гугл диск і дати посилання в репозиторії в readme.md файлі, якщо дані великі. Саме так рекомендую робити для проєктів з портфоліо.\n",
        "\n",
        "У домашніх завданнях цього модуля особливо важливо **уважно** читати формулювання завдання і всі коментарі. Також у цьому модулі треба по максимуму використовувати функціонал бібліотеки pandas, навіть якщо існують альтернативні способи зробити те саме. Нагадую, що працюючи з pandas ми здебільшого НЕ потребуємо використовувати цикли для створення колонки - для цього є інші, більш загальноприйняті методи, розглянуті в лекції.\n"
      ]
    },
    {
      "cell_type": "markdown",
      "source": [
        "1. Імпортуйте бібліотеку pandas в загальноприйнятому форматі."
      ],
      "metadata": {
        "id": "39qzN0NZAPFm"
      }
    },
    {
      "cell_type": "code",
      "source": [
        "import pandas as pd"
      ],
      "metadata": {
        "id": "jA1fRzz4AOsE"
      },
      "execution_count": 1,
      "outputs": []
    },
    {
      "cell_type": "markdown",
      "metadata": {
        "ExecuteTime": {
          "end_time": "2021-09-20T19:43:50.443031Z",
          "start_time": "2021-09-20T19:43:50.439600Z"
        },
        "id": "fd7f076b"
      },
      "source": [
        "2. За допомогою бібліотеки Pandas, викликом однієї функції зчитайте набір даних із файлу `supermarket_sales.csv` в змінну `df` типу `pandas.DataFrame`.\n",
        "Виведіть тип даних змінної `df`."
      ]
    },
    {
      "cell_type": "code",
      "source": [
        "data_path = '../content/drive/MyDrive/Python/supermarket_sales.csv'\n",
        "df = pd.read_csv(data_path)"
      ],
      "metadata": {
        "id": "0kbbVMM1ATsk"
      },
      "execution_count": 2,
      "outputs": []
    },
    {
      "cell_type": "code",
      "source": [
        "type(df)"
      ],
      "metadata": {
        "colab": {
          "base_uri": "https://localhost:8080/",
          "height": 203
        },
        "id": "N1IbsEM2Jdoz",
        "outputId": "31868cac-867f-4c5d-9549-a93a787c39ac"
      },
      "execution_count": 3,
      "outputs": [
        {
          "output_type": "execute_result",
          "data": {
            "text/plain": [
              "pandas.core.frame.DataFrame"
            ],
            "text/html": [
              "<div style=\"max-width:800px; border: 1px solid var(--colab-border-color);\"><style>\n",
              "      pre.function-repr-contents {\n",
              "        overflow-x: auto;\n",
              "        padding: 8px 12px;\n",
              "        max-height: 500px;\n",
              "      }\n",
              "\n",
              "      pre.function-repr-contents.function-repr-contents-collapsed {\n",
              "        cursor: pointer;\n",
              "        max-height: 100px;\n",
              "      }\n",
              "    </style>\n",
              "    <pre style=\"white-space: initial; background:\n",
              "         var(--colab-secondary-surface-color); padding: 8px 12px;\n",
              "         border-bottom: 1px solid var(--colab-border-color);\"><b>pandas.core.frame.DataFrame</b><br/>def __init__(data=None, index: Axes | None=None, columns: Axes | None=None, dtype: Dtype | None=None, copy: bool | None=None) -&gt; None</pre><pre class=\"function-repr-contents function-repr-contents-collapsed\" style=\"\"><a class=\"filepath\" style=\"display:none\" href=\"#\">/usr/local/lib/python3.10/dist-packages/pandas/core/frame.py</a>Two-dimensional, size-mutable, potentially heterogeneous tabular data.\n",
              "\n",
              "Data structure also contains labeled axes (rows and columns).\n",
              "Arithmetic operations align on both row and column labels. Can be\n",
              "thought of as a dict-like container for Series objects. The primary\n",
              "pandas data structure.\n",
              "\n",
              "Parameters\n",
              "----------\n",
              "data : ndarray (structured or homogeneous), Iterable, dict, or DataFrame\n",
              "    Dict can contain Series, arrays, constants, dataclass or list-like objects. If\n",
              "    data is a dict, column order follows insertion-order. If a dict contains Series\n",
              "    which have an index defined, it is aligned by its index.\n",
              "\n",
              "    .. versionchanged:: 0.25.0\n",
              "       If data is a list of dicts, column order follows insertion-order.\n",
              "\n",
              "index : Index or array-like\n",
              "    Index to use for resulting frame. Will default to RangeIndex if\n",
              "    no indexing information part of input data and no index provided.\n",
              "columns : Index or array-like\n",
              "    Column labels to use for resulting frame when data does not have them,\n",
              "    defaulting to RangeIndex(0, 1, 2, ..., n). If data contains column labels,\n",
              "    will perform column selection instead.\n",
              "dtype : dtype, default None\n",
              "    Data type to force. Only a single dtype is allowed. If None, infer.\n",
              "copy : bool or None, default None\n",
              "    Copy data from inputs.\n",
              "    For dict data, the default of None behaves like ``copy=True``.  For DataFrame\n",
              "    or 2d ndarray input, the default of None behaves like ``copy=False``.\n",
              "    If data is a dict containing one or more Series (possibly of different dtypes),\n",
              "    ``copy=False`` will ensure that these inputs are not copied.\n",
              "\n",
              "    .. versionchanged:: 1.3.0\n",
              "\n",
              "See Also\n",
              "--------\n",
              "DataFrame.from_records : Constructor from tuples, also record arrays.\n",
              "DataFrame.from_dict : From dicts of Series, arrays, or dicts.\n",
              "read_csv : Read a comma-separated values (csv) file into DataFrame.\n",
              "read_table : Read general delimited file into DataFrame.\n",
              "read_clipboard : Read text from clipboard into DataFrame.\n",
              "\n",
              "Notes\n",
              "-----\n",
              "Please reference the :ref:`User Guide &lt;basics.dataframe&gt;` for more information.\n",
              "\n",
              "Examples\n",
              "--------\n",
              "Constructing DataFrame from a dictionary.\n",
              "\n",
              "&gt;&gt;&gt; d = {&#x27;col1&#x27;: [1, 2], &#x27;col2&#x27;: [3, 4]}\n",
              "&gt;&gt;&gt; df = pd.DataFrame(data=d)\n",
              "&gt;&gt;&gt; df\n",
              "   col1  col2\n",
              "0     1     3\n",
              "1     2     4\n",
              "\n",
              "Notice that the inferred dtype is int64.\n",
              "\n",
              "&gt;&gt;&gt; df.dtypes\n",
              "col1    int64\n",
              "col2    int64\n",
              "dtype: object\n",
              "\n",
              "To enforce a single dtype:\n",
              "\n",
              "&gt;&gt;&gt; df = pd.DataFrame(data=d, dtype=np.int8)\n",
              "&gt;&gt;&gt; df.dtypes\n",
              "col1    int8\n",
              "col2    int8\n",
              "dtype: object\n",
              "\n",
              "Constructing DataFrame from a dictionary including Series:\n",
              "\n",
              "&gt;&gt;&gt; d = {&#x27;col1&#x27;: [0, 1, 2, 3], &#x27;col2&#x27;: pd.Series([2, 3], index=[2, 3])}\n",
              "&gt;&gt;&gt; pd.DataFrame(data=d, index=[0, 1, 2, 3])\n",
              "   col1  col2\n",
              "0     0   NaN\n",
              "1     1   NaN\n",
              "2     2   2.0\n",
              "3     3   3.0\n",
              "\n",
              "Constructing DataFrame from numpy ndarray:\n",
              "\n",
              "&gt;&gt;&gt; df2 = pd.DataFrame(np.array([[1, 2, 3], [4, 5, 6], [7, 8, 9]]),\n",
              "...                    columns=[&#x27;a&#x27;, &#x27;b&#x27;, &#x27;c&#x27;])\n",
              "&gt;&gt;&gt; df2\n",
              "   a  b  c\n",
              "0  1  2  3\n",
              "1  4  5  6\n",
              "2  7  8  9\n",
              "\n",
              "Constructing DataFrame from a numpy ndarray that has labeled columns:\n",
              "\n",
              "&gt;&gt;&gt; data = np.array([(1, 2, 3), (4, 5, 6), (7, 8, 9)],\n",
              "...                 dtype=[(&quot;a&quot;, &quot;i4&quot;), (&quot;b&quot;, &quot;i4&quot;), (&quot;c&quot;, &quot;i4&quot;)])\n",
              "&gt;&gt;&gt; df3 = pd.DataFrame(data, columns=[&#x27;c&#x27;, &#x27;a&#x27;])\n",
              "...\n",
              "&gt;&gt;&gt; df3\n",
              "   c  a\n",
              "0  3  1\n",
              "1  6  4\n",
              "2  9  7\n",
              "\n",
              "Constructing DataFrame from dataclass:\n",
              "\n",
              "&gt;&gt;&gt; from dataclasses import make_dataclass\n",
              "&gt;&gt;&gt; Point = make_dataclass(&quot;Point&quot;, [(&quot;x&quot;, int), (&quot;y&quot;, int)])\n",
              "&gt;&gt;&gt; pd.DataFrame([Point(0, 0), Point(0, 3), Point(2, 3)])\n",
              "   x  y\n",
              "0  0  0\n",
              "1  0  3\n",
              "2  2  3</pre>\n",
              "      <script>\n",
              "      if (google.colab.kernel.accessAllowed && google.colab.files && google.colab.files.view) {\n",
              "        for (const element of document.querySelectorAll('.filepath')) {\n",
              "          element.style.display = 'block'\n",
              "          element.onclick = (event) => {\n",
              "            event.preventDefault();\n",
              "            event.stopPropagation();\n",
              "            google.colab.files.view(element.textContent, 475);\n",
              "          };\n",
              "        }\n",
              "      }\n",
              "      for (const element of document.querySelectorAll('.function-repr-contents')) {\n",
              "        element.onclick = (event) => {\n",
              "          event.preventDefault();\n",
              "          event.stopPropagation();\n",
              "          element.classList.toggle('function-repr-contents-collapsed');\n",
              "        };\n",
              "      }\n",
              "      </script>\n",
              "      </div>"
            ]
          },
          "metadata": {},
          "execution_count": 3
        }
      ]
    },
    {
      "cell_type": "markdown",
      "metadata": {
        "ExecuteTime": {
          "end_time": "2022-11-01T16:51:38.594974Z",
          "start_time": "2022-11-01T16:51:38.591423Z"
        },
        "id": "33661c15"
      },
      "source": [
        "3. Виведіть кількість рядків і кількість колонок в наборі даних. Відповідь сформуйте використовуючи fstring у наступному форматі: `Набір даних містить 1000 рядків та 17 колонок`"
      ]
    },
    {
      "cell_type": "code",
      "execution_count": 4,
      "metadata": {
        "ExecuteTime": {
          "end_time": "2022-11-01T16:54:59.887783Z",
          "start_time": "2022-11-01T16:54:59.884323Z"
        },
        "id": "bac0cbfc",
        "colab": {
          "base_uri": "https://localhost:8080/"
        },
        "outputId": "af61acbc-7327-4c31-bfa0-d477d0b20c21"
      },
      "outputs": [
        {
          "output_type": "stream",
          "name": "stdout",
          "text": [
            "Набір даних містить 1000 рядків та 17 колонок\n"
          ]
        }
      ],
      "source": [
        "print(f'Набір даних містить {df.shape[0]} рядків та {df.shape[1]} колонок')"
      ]
    },
    {
      "cell_type": "markdown",
      "source": [
        "4. Скільки оперативної памʼяті у мегабайтах займає даний набір даних? Обчисліть за допомогою pandas і виведіть на екран."
      ],
      "metadata": {
        "id": "4i5dUphZ_JxM"
      }
    },
    {
      "cell_type": "code",
      "source": [
        "total_bytes = df.memory_usage().sum()\n",
        "total_megabytes = total_bytes / (1024 * 1024)\n",
        "total_megabytes"
      ],
      "metadata": {
        "id": "kwoNKAr-_JDf",
        "colab": {
          "base_uri": "https://localhost:8080/"
        },
        "outputId": "1990021a-f580-473d-bdaf-0521c8c64c71"
      },
      "execution_count": 5,
      "outputs": [
        {
          "output_type": "execute_result",
          "data": {
            "text/plain": [
              "0.12982177734375"
            ]
          },
          "metadata": {},
          "execution_count": 5
        }
      ]
    }
  ]
}