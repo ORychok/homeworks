{
  "nbformat": 4,
  "nbformat_minor": 0,
  "metadata": {
    "colab": {
      "provenance": [],
      "include_colab_link": true
    },
    "kernelspec": {
      "name": "python3",
      "display_name": "Python 3"
    },
    "language_info": {
      "name": "python"
    }
  },
  "cells": [
    {
      "cell_type": "markdown",
      "metadata": {
        "id": "view-in-github",
        "colab_type": "text"
      },
      "source": [
        "<a href=\"https://colab.research.google.com/github/ORychok/homeworks/blob/main/Rychok_hw_3_2_%D0%9E%D1%81%D0%BD%D0%BE%D0%B2%D0%B8_%D1%80%D0%BE%D0%B1%D0%BE%D1%82%D0%B8_%D0%B7_%D0%B4%D0%B0%D0%BD%D0%B8%D0%BC%D0%B8_%D1%83_Pandas.ipynb\" target=\"_parent\"><img src=\"https://colab.research.google.com/assets/colab-badge.svg\" alt=\"Open In Colab\"/></a>"
      ]
    },
    {
      "cell_type": "markdown",
      "source": [
        "# Домашнє завдання до теми \"Основи роботи з даними у Pandas\""
      ],
      "metadata": {
        "id": "olyuwbpjrmvn"
      }
    },
    {
      "cell_type": "markdown",
      "source": [
        "В цьому домашньому завданні продовжуємо працювати з набором даних `supermarket_sales.csv`."
      ],
      "metadata": {
        "id": "vP2PEJyq8Yrj"
      }
    },
    {
      "cell_type": "markdown",
      "source": [
        "0. Імпортуйте бібліотеку pandas та зчитайте дані у змінну `df` типу `pandas.DataFrame`."
      ],
      "metadata": {
        "id": "dh9lfpDb8gBL"
      }
    },
    {
      "cell_type": "code",
      "source": [
        "import pandas as pd"
      ],
      "metadata": {
        "id": "xBI9gJMK8qnl"
      },
      "execution_count": 1,
      "outputs": []
    },
    {
      "cell_type": "code",
      "source": [
        "from google.colab import drive\n",
        "drive.mount('/content/drive')"
      ],
      "metadata": {
        "id": "hW606fzWZ0cX",
        "colab": {
          "base_uri": "https://localhost:8080/"
        },
        "outputId": "2f522b5b-0239-4cad-c1af-580ad7967659"
      },
      "execution_count": 2,
      "outputs": [
        {
          "output_type": "stream",
          "name": "stdout",
          "text": [
            "Drive already mounted at /content/drive; to attempt to forcibly remount, call drive.mount(\"/content/drive\", force_remount=True).\n"
          ]
        }
      ]
    },
    {
      "cell_type": "code",
      "source": [
        "data_path = '../content/drive/MyDrive/Python/supermarket_sales.csv'\n",
        "df = pd.read_csv(data_path)"
      ],
      "metadata": {
        "id": "-MgKAuvnZx00"
      },
      "execution_count": 3,
      "outputs": []
    },
    {
      "cell_type": "markdown",
      "metadata": {
        "ExecuteTime": {
          "end_time": "2021-09-20T19:44:56.499824Z",
          "start_time": "2021-09-20T19:44:56.496923Z"
        },
        "id": "ca064875"
      },
      "source": [
        "1. За допомогою бібліотеки Pandas виведіть перші 4 і останні 4 записи у наборі даних (це дві окремі команди). Треба саме 4! Не 5."
      ]
    },
    {
      "cell_type": "code",
      "execution_count": 4,
      "metadata": {
        "ExecuteTime": {
          "end_time": "2021-12-08T18:46:42.601691Z",
          "start_time": "2021-12-08T18:46:42.570962Z"
        },
        "id": "d095f26b",
        "colab": {
          "base_uri": "https://localhost:8080/",
          "height": 275
        },
        "outputId": "dfec2be7-aa17-47e4-8026-62a4251e8111"
      },
      "outputs": [
        {
          "output_type": "execute_result",
          "data": {
            "text/plain": [
              "    Invoice ID Branch       City Customer type  Gender  \\\n",
              "0  750-67-8428      A     Yangon        Member  Female   \n",
              "1  226-31-3081      C  Naypyitaw        Normal  Female   \n",
              "2  631-41-3108      A     Yangon        Normal    Male   \n",
              "3  123-19-1176      A     Yangon        Member    Male   \n",
              "\n",
              "             Product line  Unit price  Quantity   Tax 5%     Total       Date  \\\n",
              "0       Health and beauty       74.69         7  26.1415  548.9715   1/5/2019   \n",
              "1  Electronic accessories       15.28         5   3.8200   80.2200   3/8/2019   \n",
              "2      Home and lifestyle       46.33         7  16.2155  340.5255   3/3/2019   \n",
              "3       Health and beauty       58.22         8  23.2880  489.0480  1/27/2019   \n",
              "\n",
              "    Time      Payment    cogs  gross margin percentage  gross income  Rating  \n",
              "0  13:08      Ewallet  522.83                 4.761905       26.1415     9.1  \n",
              "1  10:29         Cash   76.40                 4.761905        3.8200     9.6  \n",
              "2  13:23  Credit card  324.31                 4.761905       16.2155     7.4  \n",
              "3  20:33      Ewallet  465.76                 4.761905       23.2880     8.4  "
            ],
            "text/html": [
              "\n",
              "  <div id=\"df-a6d68342-e1b0-473f-9e48-d3354b217870\" class=\"colab-df-container\">\n",
              "    <div>\n",
              "<style scoped>\n",
              "    .dataframe tbody tr th:only-of-type {\n",
              "        vertical-align: middle;\n",
              "    }\n",
              "\n",
              "    .dataframe tbody tr th {\n",
              "        vertical-align: top;\n",
              "    }\n",
              "\n",
              "    .dataframe thead th {\n",
              "        text-align: right;\n",
              "    }\n",
              "</style>\n",
              "<table border=\"1\" class=\"dataframe\">\n",
              "  <thead>\n",
              "    <tr style=\"text-align: right;\">\n",
              "      <th></th>\n",
              "      <th>Invoice ID</th>\n",
              "      <th>Branch</th>\n",
              "      <th>City</th>\n",
              "      <th>Customer type</th>\n",
              "      <th>Gender</th>\n",
              "      <th>Product line</th>\n",
              "      <th>Unit price</th>\n",
              "      <th>Quantity</th>\n",
              "      <th>Tax 5%</th>\n",
              "      <th>Total</th>\n",
              "      <th>Date</th>\n",
              "      <th>Time</th>\n",
              "      <th>Payment</th>\n",
              "      <th>cogs</th>\n",
              "      <th>gross margin percentage</th>\n",
              "      <th>gross income</th>\n",
              "      <th>Rating</th>\n",
              "    </tr>\n",
              "  </thead>\n",
              "  <tbody>\n",
              "    <tr>\n",
              "      <th>0</th>\n",
              "      <td>750-67-8428</td>\n",
              "      <td>A</td>\n",
              "      <td>Yangon</td>\n",
              "      <td>Member</td>\n",
              "      <td>Female</td>\n",
              "      <td>Health and beauty</td>\n",
              "      <td>74.69</td>\n",
              "      <td>7</td>\n",
              "      <td>26.1415</td>\n",
              "      <td>548.9715</td>\n",
              "      <td>1/5/2019</td>\n",
              "      <td>13:08</td>\n",
              "      <td>Ewallet</td>\n",
              "      <td>522.83</td>\n",
              "      <td>4.761905</td>\n",
              "      <td>26.1415</td>\n",
              "      <td>9.1</td>\n",
              "    </tr>\n",
              "    <tr>\n",
              "      <th>1</th>\n",
              "      <td>226-31-3081</td>\n",
              "      <td>C</td>\n",
              "      <td>Naypyitaw</td>\n",
              "      <td>Normal</td>\n",
              "      <td>Female</td>\n",
              "      <td>Electronic accessories</td>\n",
              "      <td>15.28</td>\n",
              "      <td>5</td>\n",
              "      <td>3.8200</td>\n",
              "      <td>80.2200</td>\n",
              "      <td>3/8/2019</td>\n",
              "      <td>10:29</td>\n",
              "      <td>Cash</td>\n",
              "      <td>76.40</td>\n",
              "      <td>4.761905</td>\n",
              "      <td>3.8200</td>\n",
              "      <td>9.6</td>\n",
              "    </tr>\n",
              "    <tr>\n",
              "      <th>2</th>\n",
              "      <td>631-41-3108</td>\n",
              "      <td>A</td>\n",
              "      <td>Yangon</td>\n",
              "      <td>Normal</td>\n",
              "      <td>Male</td>\n",
              "      <td>Home and lifestyle</td>\n",
              "      <td>46.33</td>\n",
              "      <td>7</td>\n",
              "      <td>16.2155</td>\n",
              "      <td>340.5255</td>\n",
              "      <td>3/3/2019</td>\n",
              "      <td>13:23</td>\n",
              "      <td>Credit card</td>\n",
              "      <td>324.31</td>\n",
              "      <td>4.761905</td>\n",
              "      <td>16.2155</td>\n",
              "      <td>7.4</td>\n",
              "    </tr>\n",
              "    <tr>\n",
              "      <th>3</th>\n",
              "      <td>123-19-1176</td>\n",
              "      <td>A</td>\n",
              "      <td>Yangon</td>\n",
              "      <td>Member</td>\n",
              "      <td>Male</td>\n",
              "      <td>Health and beauty</td>\n",
              "      <td>58.22</td>\n",
              "      <td>8</td>\n",
              "      <td>23.2880</td>\n",
              "      <td>489.0480</td>\n",
              "      <td>1/27/2019</td>\n",
              "      <td>20:33</td>\n",
              "      <td>Ewallet</td>\n",
              "      <td>465.76</td>\n",
              "      <td>4.761905</td>\n",
              "      <td>23.2880</td>\n",
              "      <td>8.4</td>\n",
              "    </tr>\n",
              "  </tbody>\n",
              "</table>\n",
              "</div>\n",
              "    <div class=\"colab-df-buttons\">\n",
              "\n",
              "  <div class=\"colab-df-container\">\n",
              "    <button class=\"colab-df-convert\" onclick=\"convertToInteractive('df-a6d68342-e1b0-473f-9e48-d3354b217870')\"\n",
              "            title=\"Convert this dataframe to an interactive table.\"\n",
              "            style=\"display:none;\">\n",
              "\n",
              "  <svg xmlns=\"http://www.w3.org/2000/svg\" height=\"24px\" viewBox=\"0 -960 960 960\">\n",
              "    <path d=\"M120-120v-720h720v720H120Zm60-500h600v-160H180v160Zm220 220h160v-160H400v160Zm0 220h160v-160H400v160ZM180-400h160v-160H180v160Zm440 0h160v-160H620v160ZM180-180h160v-160H180v160Zm440 0h160v-160H620v160Z\"/>\n",
              "  </svg>\n",
              "    </button>\n",
              "\n",
              "  <style>\n",
              "    .colab-df-container {\n",
              "      display:flex;\n",
              "      gap: 12px;\n",
              "    }\n",
              "\n",
              "    .colab-df-convert {\n",
              "      background-color: #E8F0FE;\n",
              "      border: none;\n",
              "      border-radius: 50%;\n",
              "      cursor: pointer;\n",
              "      display: none;\n",
              "      fill: #1967D2;\n",
              "      height: 32px;\n",
              "      padding: 0 0 0 0;\n",
              "      width: 32px;\n",
              "    }\n",
              "\n",
              "    .colab-df-convert:hover {\n",
              "      background-color: #E2EBFA;\n",
              "      box-shadow: 0px 1px 2px rgba(60, 64, 67, 0.3), 0px 1px 3px 1px rgba(60, 64, 67, 0.15);\n",
              "      fill: #174EA6;\n",
              "    }\n",
              "\n",
              "    .colab-df-buttons div {\n",
              "      margin-bottom: 4px;\n",
              "    }\n",
              "\n",
              "    [theme=dark] .colab-df-convert {\n",
              "      background-color: #3B4455;\n",
              "      fill: #D2E3FC;\n",
              "    }\n",
              "\n",
              "    [theme=dark] .colab-df-convert:hover {\n",
              "      background-color: #434B5C;\n",
              "      box-shadow: 0px 1px 3px 1px rgba(0, 0, 0, 0.15);\n",
              "      filter: drop-shadow(0px 1px 2px rgba(0, 0, 0, 0.3));\n",
              "      fill: #FFFFFF;\n",
              "    }\n",
              "  </style>\n",
              "\n",
              "    <script>\n",
              "      const buttonEl =\n",
              "        document.querySelector('#df-a6d68342-e1b0-473f-9e48-d3354b217870 button.colab-df-convert');\n",
              "      buttonEl.style.display =\n",
              "        google.colab.kernel.accessAllowed ? 'block' : 'none';\n",
              "\n",
              "      async function convertToInteractive(key) {\n",
              "        const element = document.querySelector('#df-a6d68342-e1b0-473f-9e48-d3354b217870');\n",
              "        const dataTable =\n",
              "          await google.colab.kernel.invokeFunction('convertToInteractive',\n",
              "                                                    [key], {});\n",
              "        if (!dataTable) return;\n",
              "\n",
              "        const docLinkHtml = 'Like what you see? Visit the ' +\n",
              "          '<a target=\"_blank\" href=https://colab.research.google.com/notebooks/data_table.ipynb>data table notebook</a>'\n",
              "          + ' to learn more about interactive tables.';\n",
              "        element.innerHTML = '';\n",
              "        dataTable['output_type'] = 'display_data';\n",
              "        await google.colab.output.renderOutput(dataTable, element);\n",
              "        const docLink = document.createElement('div');\n",
              "        docLink.innerHTML = docLinkHtml;\n",
              "        element.appendChild(docLink);\n",
              "      }\n",
              "    </script>\n",
              "  </div>\n",
              "\n",
              "\n",
              "<div id=\"df-ab8bae80-9c73-414b-9c50-0f4b53c2e8aa\">\n",
              "  <button class=\"colab-df-quickchart\" onclick=\"quickchart('df-ab8bae80-9c73-414b-9c50-0f4b53c2e8aa')\"\n",
              "            title=\"Suggest charts\"\n",
              "            style=\"display:none;\">\n",
              "\n",
              "<svg xmlns=\"http://www.w3.org/2000/svg\" height=\"24px\"viewBox=\"0 0 24 24\"\n",
              "     width=\"24px\">\n",
              "    <g>\n",
              "        <path d=\"M19 3H5c-1.1 0-2 .9-2 2v14c0 1.1.9 2 2 2h14c1.1 0 2-.9 2-2V5c0-1.1-.9-2-2-2zM9 17H7v-7h2v7zm4 0h-2V7h2v10zm4 0h-2v-4h2v4z\"/>\n",
              "    </g>\n",
              "</svg>\n",
              "  </button>\n",
              "\n",
              "<style>\n",
              "  .colab-df-quickchart {\n",
              "      --bg-color: #E8F0FE;\n",
              "      --fill-color: #1967D2;\n",
              "      --hover-bg-color: #E2EBFA;\n",
              "      --hover-fill-color: #174EA6;\n",
              "      --disabled-fill-color: #AAA;\n",
              "      --disabled-bg-color: #DDD;\n",
              "  }\n",
              "\n",
              "  [theme=dark] .colab-df-quickchart {\n",
              "      --bg-color: #3B4455;\n",
              "      --fill-color: #D2E3FC;\n",
              "      --hover-bg-color: #434B5C;\n",
              "      --hover-fill-color: #FFFFFF;\n",
              "      --disabled-bg-color: #3B4455;\n",
              "      --disabled-fill-color: #666;\n",
              "  }\n",
              "\n",
              "  .colab-df-quickchart {\n",
              "    background-color: var(--bg-color);\n",
              "    border: none;\n",
              "    border-radius: 50%;\n",
              "    cursor: pointer;\n",
              "    display: none;\n",
              "    fill: var(--fill-color);\n",
              "    height: 32px;\n",
              "    padding: 0;\n",
              "    width: 32px;\n",
              "  }\n",
              "\n",
              "  .colab-df-quickchart:hover {\n",
              "    background-color: var(--hover-bg-color);\n",
              "    box-shadow: 0 1px 2px rgba(60, 64, 67, 0.3), 0 1px 3px 1px rgba(60, 64, 67, 0.15);\n",
              "    fill: var(--button-hover-fill-color);\n",
              "  }\n",
              "\n",
              "  .colab-df-quickchart-complete:disabled,\n",
              "  .colab-df-quickchart-complete:disabled:hover {\n",
              "    background-color: var(--disabled-bg-color);\n",
              "    fill: var(--disabled-fill-color);\n",
              "    box-shadow: none;\n",
              "  }\n",
              "\n",
              "  .colab-df-spinner {\n",
              "    border: 2px solid var(--fill-color);\n",
              "    border-color: transparent;\n",
              "    border-bottom-color: var(--fill-color);\n",
              "    animation:\n",
              "      spin 1s steps(1) infinite;\n",
              "  }\n",
              "\n",
              "  @keyframes spin {\n",
              "    0% {\n",
              "      border-color: transparent;\n",
              "      border-bottom-color: var(--fill-color);\n",
              "      border-left-color: var(--fill-color);\n",
              "    }\n",
              "    20% {\n",
              "      border-color: transparent;\n",
              "      border-left-color: var(--fill-color);\n",
              "      border-top-color: var(--fill-color);\n",
              "    }\n",
              "    30% {\n",
              "      border-color: transparent;\n",
              "      border-left-color: var(--fill-color);\n",
              "      border-top-color: var(--fill-color);\n",
              "      border-right-color: var(--fill-color);\n",
              "    }\n",
              "    40% {\n",
              "      border-color: transparent;\n",
              "      border-right-color: var(--fill-color);\n",
              "      border-top-color: var(--fill-color);\n",
              "    }\n",
              "    60% {\n",
              "      border-color: transparent;\n",
              "      border-right-color: var(--fill-color);\n",
              "    }\n",
              "    80% {\n",
              "      border-color: transparent;\n",
              "      border-right-color: var(--fill-color);\n",
              "      border-bottom-color: var(--fill-color);\n",
              "    }\n",
              "    90% {\n",
              "      border-color: transparent;\n",
              "      border-bottom-color: var(--fill-color);\n",
              "    }\n",
              "  }\n",
              "</style>\n",
              "\n",
              "  <script>\n",
              "    async function quickchart(key) {\n",
              "      const quickchartButtonEl =\n",
              "        document.querySelector('#' + key + ' button');\n",
              "      quickchartButtonEl.disabled = true;  // To prevent multiple clicks.\n",
              "      quickchartButtonEl.classList.add('colab-df-spinner');\n",
              "      try {\n",
              "        const charts = await google.colab.kernel.invokeFunction(\n",
              "            'suggestCharts', [key], {});\n",
              "      } catch (error) {\n",
              "        console.error('Error during call to suggestCharts:', error);\n",
              "      }\n",
              "      quickchartButtonEl.classList.remove('colab-df-spinner');\n",
              "      quickchartButtonEl.classList.add('colab-df-quickchart-complete');\n",
              "    }\n",
              "    (() => {\n",
              "      let quickchartButtonEl =\n",
              "        document.querySelector('#df-ab8bae80-9c73-414b-9c50-0f4b53c2e8aa button');\n",
              "      quickchartButtonEl.style.display =\n",
              "        google.colab.kernel.accessAllowed ? 'block' : 'none';\n",
              "    })();\n",
              "  </script>\n",
              "</div>\n",
              "    </div>\n",
              "  </div>\n"
            ],
            "application/vnd.google.colaboratory.intrinsic+json": {
              "type": "dataframe",
              "variable_name": "df",
              "summary": "{\n  \"name\": \"df\",\n  \"rows\": 1000,\n  \"fields\": [\n    {\n      \"column\": \"Invoice ID\",\n      \"properties\": {\n        \"dtype\": \"string\",\n        \"num_unique_values\": 1000,\n        \"samples\": [\n          \"451-28-5717\",\n          \"137-63-5492\",\n          \"733-29-1227\"\n        ],\n        \"semantic_type\": \"\",\n        \"description\": \"\"\n      }\n    },\n    {\n      \"column\": \"Branch\",\n      \"properties\": {\n        \"dtype\": \"category\",\n        \"num_unique_values\": 3,\n        \"samples\": [\n          \"A\",\n          \"C\",\n          \"B\"\n        ],\n        \"semantic_type\": \"\",\n        \"description\": \"\"\n      }\n    },\n    {\n      \"column\": \"City\",\n      \"properties\": {\n        \"dtype\": \"category\",\n        \"num_unique_values\": 3,\n        \"samples\": [\n          \"Yangon\",\n          \"Naypyitaw\",\n          \"Mandalay\"\n        ],\n        \"semantic_type\": \"\",\n        \"description\": \"\"\n      }\n    },\n    {\n      \"column\": \"Customer type\",\n      \"properties\": {\n        \"dtype\": \"category\",\n        \"num_unique_values\": 2,\n        \"samples\": [\n          \"Normal\",\n          \"Member\"\n        ],\n        \"semantic_type\": \"\",\n        \"description\": \"\"\n      }\n    },\n    {\n      \"column\": \"Gender\",\n      \"properties\": {\n        \"dtype\": \"category\",\n        \"num_unique_values\": 2,\n        \"samples\": [\n          \"Male\",\n          \"Female\"\n        ],\n        \"semantic_type\": \"\",\n        \"description\": \"\"\n      }\n    },\n    {\n      \"column\": \"Product line\",\n      \"properties\": {\n        \"dtype\": \"category\",\n        \"num_unique_values\": 6,\n        \"samples\": [\n          \"Health and beauty\",\n          \"Electronic accessories\"\n        ],\n        \"semantic_type\": \"\",\n        \"description\": \"\"\n      }\n    },\n    {\n      \"column\": \"Unit price\",\n      \"properties\": {\n        \"dtype\": \"number\",\n        \"std\": 26.49462834791978,\n        \"min\": 10.08,\n        \"max\": 99.96,\n        \"num_unique_values\": 943,\n        \"samples\": [\n          12.45,\n          70.74\n        ],\n        \"semantic_type\": \"\",\n        \"description\": \"\"\n      }\n    },\n    {\n      \"column\": \"Quantity\",\n      \"properties\": {\n        \"dtype\": \"number\",\n        \"std\": 2,\n        \"min\": 1,\n        \"max\": 10,\n        \"num_unique_values\": 10,\n        \"samples\": [\n          1,\n          5\n        ],\n        \"semantic_type\": \"\",\n        \"description\": \"\"\n      }\n    },\n    {\n      \"column\": \"Tax 5%\",\n      \"properties\": {\n        \"dtype\": \"number\",\n        \"std\": 11.708825480998659,\n        \"min\": 0.5085,\n        \"max\": 49.65,\n        \"num_unique_values\": 990,\n        \"samples\": [\n          0.914,\n          2.348\n        ],\n        \"semantic_type\": \"\",\n        \"description\": \"\"\n      }\n    },\n    {\n      \"column\": \"Total\",\n      \"properties\": {\n        \"dtype\": \"number\",\n        \"std\": 245.88533510097187,\n        \"min\": 10.6785,\n        \"max\": 1042.65,\n        \"num_unique_values\": 990,\n        \"samples\": [\n          19.194,\n          49.308\n        ],\n        \"semantic_type\": \"\",\n        \"description\": \"\"\n      }\n    },\n    {\n      \"column\": \"Date\",\n      \"properties\": {\n        \"dtype\": \"object\",\n        \"num_unique_values\": 89,\n        \"samples\": [\n          \"2/14/2019\",\n          \"1/26/2019\"\n        ],\n        \"semantic_type\": \"\",\n        \"description\": \"\"\n      }\n    },\n    {\n      \"column\": \"Time\",\n      \"properties\": {\n        \"dtype\": \"object\",\n        \"num_unique_values\": 506,\n        \"samples\": [\n          \"10:13\",\n          \"11:21\"\n        ],\n        \"semantic_type\": \"\",\n        \"description\": \"\"\n      }\n    },\n    {\n      \"column\": \"Payment\",\n      \"properties\": {\n        \"dtype\": \"category\",\n        \"num_unique_values\": 3,\n        \"samples\": [\n          \"Ewallet\",\n          \"Cash\"\n        ],\n        \"semantic_type\": \"\",\n        \"description\": \"\"\n      }\n    },\n    {\n      \"column\": \"cogs\",\n      \"properties\": {\n        \"dtype\": \"number\",\n        \"std\": 234.1765096199732,\n        \"min\": 10.17,\n        \"max\": 993.0,\n        \"num_unique_values\": 990,\n        \"samples\": [\n          18.28,\n          46.96\n        ],\n        \"semantic_type\": \"\",\n        \"description\": \"\"\n      }\n    },\n    {\n      \"column\": \"gross margin percentage\",\n      \"properties\": {\n        \"dtype\": \"number\",\n        \"std\": 0.0,\n        \"min\": 4.761904762,\n        \"max\": 4.761904762,\n        \"num_unique_values\": 1,\n        \"samples\": [\n          4.761904762\n        ],\n        \"semantic_type\": \"\",\n        \"description\": \"\"\n      }\n    },\n    {\n      \"column\": \"gross income\",\n      \"properties\": {\n        \"dtype\": \"number\",\n        \"std\": 11.708825480998659,\n        \"min\": 0.5085,\n        \"max\": 49.65,\n        \"num_unique_values\": 990,\n        \"samples\": [\n          0.914\n        ],\n        \"semantic_type\": \"\",\n        \"description\": \"\"\n      }\n    },\n    {\n      \"column\": \"Rating\",\n      \"properties\": {\n        \"dtype\": \"number\",\n        \"std\": 1.7185802943791215,\n        \"min\": 4.0,\n        \"max\": 10.0,\n        \"num_unique_values\": 61,\n        \"samples\": [\n          9.1\n        ],\n        \"semantic_type\": \"\",\n        \"description\": \"\"\n      }\n    }\n  ]\n}"
            }
          },
          "metadata": {},
          "execution_count": 4
        }
      ],
      "source": [
        "df.head(4)"
      ]
    },
    {
      "cell_type": "code",
      "source": [
        "df.tail(4)"
      ],
      "metadata": {
        "colab": {
          "base_uri": "https://localhost:8080/",
          "height": 275
        },
        "id": "QwKQ91MUaX3r",
        "outputId": "870051af-f5e1-4a4d-ad05-40d01516ee86"
      },
      "execution_count": 5,
      "outputs": [
        {
          "output_type": "execute_result",
          "data": {
            "text/plain": [
              "      Invoice ID Branch      City Customer type  Gender         Product line  \\\n",
              "996  303-96-2227      B  Mandalay        Normal  Female   Home and lifestyle   \n",
              "997  727-02-1313      A    Yangon        Member    Male   Food and beverages   \n",
              "998  347-56-2442      A    Yangon        Normal    Male   Home and lifestyle   \n",
              "999  849-09-3807      A    Yangon        Member  Female  Fashion accessories   \n",
              "\n",
              "     Unit price  Quantity  Tax 5%     Total       Date   Time  Payment  \\\n",
              "996       97.38        10  48.690  1022.490   3/2/2019  17:16  Ewallet   \n",
              "997       31.84         1   1.592    33.432   2/9/2019  13:22     Cash   \n",
              "998       65.82         1   3.291    69.111  2/22/2019  15:33     Cash   \n",
              "999       88.34         7  30.919   649.299  2/18/2019  13:28     Cash   \n",
              "\n",
              "       cogs  gross margin percentage  gross income  Rating  \n",
              "996  973.80                 4.761905        48.690     4.4  \n",
              "997   31.84                 4.761905         1.592     7.7  \n",
              "998   65.82                 4.761905         3.291     4.1  \n",
              "999  618.38                 4.761905        30.919     6.6  "
            ],
            "text/html": [
              "\n",
              "  <div id=\"df-7299ceb7-4ce8-41a8-a3fe-e220a720d6aa\" class=\"colab-df-container\">\n",
              "    <div>\n",
              "<style scoped>\n",
              "    .dataframe tbody tr th:only-of-type {\n",
              "        vertical-align: middle;\n",
              "    }\n",
              "\n",
              "    .dataframe tbody tr th {\n",
              "        vertical-align: top;\n",
              "    }\n",
              "\n",
              "    .dataframe thead th {\n",
              "        text-align: right;\n",
              "    }\n",
              "</style>\n",
              "<table border=\"1\" class=\"dataframe\">\n",
              "  <thead>\n",
              "    <tr style=\"text-align: right;\">\n",
              "      <th></th>\n",
              "      <th>Invoice ID</th>\n",
              "      <th>Branch</th>\n",
              "      <th>City</th>\n",
              "      <th>Customer type</th>\n",
              "      <th>Gender</th>\n",
              "      <th>Product line</th>\n",
              "      <th>Unit price</th>\n",
              "      <th>Quantity</th>\n",
              "      <th>Tax 5%</th>\n",
              "      <th>Total</th>\n",
              "      <th>Date</th>\n",
              "      <th>Time</th>\n",
              "      <th>Payment</th>\n",
              "      <th>cogs</th>\n",
              "      <th>gross margin percentage</th>\n",
              "      <th>gross income</th>\n",
              "      <th>Rating</th>\n",
              "    </tr>\n",
              "  </thead>\n",
              "  <tbody>\n",
              "    <tr>\n",
              "      <th>996</th>\n",
              "      <td>303-96-2227</td>\n",
              "      <td>B</td>\n",
              "      <td>Mandalay</td>\n",
              "      <td>Normal</td>\n",
              "      <td>Female</td>\n",
              "      <td>Home and lifestyle</td>\n",
              "      <td>97.38</td>\n",
              "      <td>10</td>\n",
              "      <td>48.690</td>\n",
              "      <td>1022.490</td>\n",
              "      <td>3/2/2019</td>\n",
              "      <td>17:16</td>\n",
              "      <td>Ewallet</td>\n",
              "      <td>973.80</td>\n",
              "      <td>4.761905</td>\n",
              "      <td>48.690</td>\n",
              "      <td>4.4</td>\n",
              "    </tr>\n",
              "    <tr>\n",
              "      <th>997</th>\n",
              "      <td>727-02-1313</td>\n",
              "      <td>A</td>\n",
              "      <td>Yangon</td>\n",
              "      <td>Member</td>\n",
              "      <td>Male</td>\n",
              "      <td>Food and beverages</td>\n",
              "      <td>31.84</td>\n",
              "      <td>1</td>\n",
              "      <td>1.592</td>\n",
              "      <td>33.432</td>\n",
              "      <td>2/9/2019</td>\n",
              "      <td>13:22</td>\n",
              "      <td>Cash</td>\n",
              "      <td>31.84</td>\n",
              "      <td>4.761905</td>\n",
              "      <td>1.592</td>\n",
              "      <td>7.7</td>\n",
              "    </tr>\n",
              "    <tr>\n",
              "      <th>998</th>\n",
              "      <td>347-56-2442</td>\n",
              "      <td>A</td>\n",
              "      <td>Yangon</td>\n",
              "      <td>Normal</td>\n",
              "      <td>Male</td>\n",
              "      <td>Home and lifestyle</td>\n",
              "      <td>65.82</td>\n",
              "      <td>1</td>\n",
              "      <td>3.291</td>\n",
              "      <td>69.111</td>\n",
              "      <td>2/22/2019</td>\n",
              "      <td>15:33</td>\n",
              "      <td>Cash</td>\n",
              "      <td>65.82</td>\n",
              "      <td>4.761905</td>\n",
              "      <td>3.291</td>\n",
              "      <td>4.1</td>\n",
              "    </tr>\n",
              "    <tr>\n",
              "      <th>999</th>\n",
              "      <td>849-09-3807</td>\n",
              "      <td>A</td>\n",
              "      <td>Yangon</td>\n",
              "      <td>Member</td>\n",
              "      <td>Female</td>\n",
              "      <td>Fashion accessories</td>\n",
              "      <td>88.34</td>\n",
              "      <td>7</td>\n",
              "      <td>30.919</td>\n",
              "      <td>649.299</td>\n",
              "      <td>2/18/2019</td>\n",
              "      <td>13:28</td>\n",
              "      <td>Cash</td>\n",
              "      <td>618.38</td>\n",
              "      <td>4.761905</td>\n",
              "      <td>30.919</td>\n",
              "      <td>6.6</td>\n",
              "    </tr>\n",
              "  </tbody>\n",
              "</table>\n",
              "</div>\n",
              "    <div class=\"colab-df-buttons\">\n",
              "\n",
              "  <div class=\"colab-df-container\">\n",
              "    <button class=\"colab-df-convert\" onclick=\"convertToInteractive('df-7299ceb7-4ce8-41a8-a3fe-e220a720d6aa')\"\n",
              "            title=\"Convert this dataframe to an interactive table.\"\n",
              "            style=\"display:none;\">\n",
              "\n",
              "  <svg xmlns=\"http://www.w3.org/2000/svg\" height=\"24px\" viewBox=\"0 -960 960 960\">\n",
              "    <path d=\"M120-120v-720h720v720H120Zm60-500h600v-160H180v160Zm220 220h160v-160H400v160Zm0 220h160v-160H400v160ZM180-400h160v-160H180v160Zm440 0h160v-160H620v160ZM180-180h160v-160H180v160Zm440 0h160v-160H620v160Z\"/>\n",
              "  </svg>\n",
              "    </button>\n",
              "\n",
              "  <style>\n",
              "    .colab-df-container {\n",
              "      display:flex;\n",
              "      gap: 12px;\n",
              "    }\n",
              "\n",
              "    .colab-df-convert {\n",
              "      background-color: #E8F0FE;\n",
              "      border: none;\n",
              "      border-radius: 50%;\n",
              "      cursor: pointer;\n",
              "      display: none;\n",
              "      fill: #1967D2;\n",
              "      height: 32px;\n",
              "      padding: 0 0 0 0;\n",
              "      width: 32px;\n",
              "    }\n",
              "\n",
              "    .colab-df-convert:hover {\n",
              "      background-color: #E2EBFA;\n",
              "      box-shadow: 0px 1px 2px rgba(60, 64, 67, 0.3), 0px 1px 3px 1px rgba(60, 64, 67, 0.15);\n",
              "      fill: #174EA6;\n",
              "    }\n",
              "\n",
              "    .colab-df-buttons div {\n",
              "      margin-bottom: 4px;\n",
              "    }\n",
              "\n",
              "    [theme=dark] .colab-df-convert {\n",
              "      background-color: #3B4455;\n",
              "      fill: #D2E3FC;\n",
              "    }\n",
              "\n",
              "    [theme=dark] .colab-df-convert:hover {\n",
              "      background-color: #434B5C;\n",
              "      box-shadow: 0px 1px 3px 1px rgba(0, 0, 0, 0.15);\n",
              "      filter: drop-shadow(0px 1px 2px rgba(0, 0, 0, 0.3));\n",
              "      fill: #FFFFFF;\n",
              "    }\n",
              "  </style>\n",
              "\n",
              "    <script>\n",
              "      const buttonEl =\n",
              "        document.querySelector('#df-7299ceb7-4ce8-41a8-a3fe-e220a720d6aa button.colab-df-convert');\n",
              "      buttonEl.style.display =\n",
              "        google.colab.kernel.accessAllowed ? 'block' : 'none';\n",
              "\n",
              "      async function convertToInteractive(key) {\n",
              "        const element = document.querySelector('#df-7299ceb7-4ce8-41a8-a3fe-e220a720d6aa');\n",
              "        const dataTable =\n",
              "          await google.colab.kernel.invokeFunction('convertToInteractive',\n",
              "                                                    [key], {});\n",
              "        if (!dataTable) return;\n",
              "\n",
              "        const docLinkHtml = 'Like what you see? Visit the ' +\n",
              "          '<a target=\"_blank\" href=https://colab.research.google.com/notebooks/data_table.ipynb>data table notebook</a>'\n",
              "          + ' to learn more about interactive tables.';\n",
              "        element.innerHTML = '';\n",
              "        dataTable['output_type'] = 'display_data';\n",
              "        await google.colab.output.renderOutput(dataTable, element);\n",
              "        const docLink = document.createElement('div');\n",
              "        docLink.innerHTML = docLinkHtml;\n",
              "        element.appendChild(docLink);\n",
              "      }\n",
              "    </script>\n",
              "  </div>\n",
              "\n",
              "\n",
              "<div id=\"df-63286fd4-0641-495c-b176-64e50ecc9aec\">\n",
              "  <button class=\"colab-df-quickchart\" onclick=\"quickchart('df-63286fd4-0641-495c-b176-64e50ecc9aec')\"\n",
              "            title=\"Suggest charts\"\n",
              "            style=\"display:none;\">\n",
              "\n",
              "<svg xmlns=\"http://www.w3.org/2000/svg\" height=\"24px\"viewBox=\"0 0 24 24\"\n",
              "     width=\"24px\">\n",
              "    <g>\n",
              "        <path d=\"M19 3H5c-1.1 0-2 .9-2 2v14c0 1.1.9 2 2 2h14c1.1 0 2-.9 2-2V5c0-1.1-.9-2-2-2zM9 17H7v-7h2v7zm4 0h-2V7h2v10zm4 0h-2v-4h2v4z\"/>\n",
              "    </g>\n",
              "</svg>\n",
              "  </button>\n",
              "\n",
              "<style>\n",
              "  .colab-df-quickchart {\n",
              "      --bg-color: #E8F0FE;\n",
              "      --fill-color: #1967D2;\n",
              "      --hover-bg-color: #E2EBFA;\n",
              "      --hover-fill-color: #174EA6;\n",
              "      --disabled-fill-color: #AAA;\n",
              "      --disabled-bg-color: #DDD;\n",
              "  }\n",
              "\n",
              "  [theme=dark] .colab-df-quickchart {\n",
              "      --bg-color: #3B4455;\n",
              "      --fill-color: #D2E3FC;\n",
              "      --hover-bg-color: #434B5C;\n",
              "      --hover-fill-color: #FFFFFF;\n",
              "      --disabled-bg-color: #3B4455;\n",
              "      --disabled-fill-color: #666;\n",
              "  }\n",
              "\n",
              "  .colab-df-quickchart {\n",
              "    background-color: var(--bg-color);\n",
              "    border: none;\n",
              "    border-radius: 50%;\n",
              "    cursor: pointer;\n",
              "    display: none;\n",
              "    fill: var(--fill-color);\n",
              "    height: 32px;\n",
              "    padding: 0;\n",
              "    width: 32px;\n",
              "  }\n",
              "\n",
              "  .colab-df-quickchart:hover {\n",
              "    background-color: var(--hover-bg-color);\n",
              "    box-shadow: 0 1px 2px rgba(60, 64, 67, 0.3), 0 1px 3px 1px rgba(60, 64, 67, 0.15);\n",
              "    fill: var(--button-hover-fill-color);\n",
              "  }\n",
              "\n",
              "  .colab-df-quickchart-complete:disabled,\n",
              "  .colab-df-quickchart-complete:disabled:hover {\n",
              "    background-color: var(--disabled-bg-color);\n",
              "    fill: var(--disabled-fill-color);\n",
              "    box-shadow: none;\n",
              "  }\n",
              "\n",
              "  .colab-df-spinner {\n",
              "    border: 2px solid var(--fill-color);\n",
              "    border-color: transparent;\n",
              "    border-bottom-color: var(--fill-color);\n",
              "    animation:\n",
              "      spin 1s steps(1) infinite;\n",
              "  }\n",
              "\n",
              "  @keyframes spin {\n",
              "    0% {\n",
              "      border-color: transparent;\n",
              "      border-bottom-color: var(--fill-color);\n",
              "      border-left-color: var(--fill-color);\n",
              "    }\n",
              "    20% {\n",
              "      border-color: transparent;\n",
              "      border-left-color: var(--fill-color);\n",
              "      border-top-color: var(--fill-color);\n",
              "    }\n",
              "    30% {\n",
              "      border-color: transparent;\n",
              "      border-left-color: var(--fill-color);\n",
              "      border-top-color: var(--fill-color);\n",
              "      border-right-color: var(--fill-color);\n",
              "    }\n",
              "    40% {\n",
              "      border-color: transparent;\n",
              "      border-right-color: var(--fill-color);\n",
              "      border-top-color: var(--fill-color);\n",
              "    }\n",
              "    60% {\n",
              "      border-color: transparent;\n",
              "      border-right-color: var(--fill-color);\n",
              "    }\n",
              "    80% {\n",
              "      border-color: transparent;\n",
              "      border-right-color: var(--fill-color);\n",
              "      border-bottom-color: var(--fill-color);\n",
              "    }\n",
              "    90% {\n",
              "      border-color: transparent;\n",
              "      border-bottom-color: var(--fill-color);\n",
              "    }\n",
              "  }\n",
              "</style>\n",
              "\n",
              "  <script>\n",
              "    async function quickchart(key) {\n",
              "      const quickchartButtonEl =\n",
              "        document.querySelector('#' + key + ' button');\n",
              "      quickchartButtonEl.disabled = true;  // To prevent multiple clicks.\n",
              "      quickchartButtonEl.classList.add('colab-df-spinner');\n",
              "      try {\n",
              "        const charts = await google.colab.kernel.invokeFunction(\n",
              "            'suggestCharts', [key], {});\n",
              "      } catch (error) {\n",
              "        console.error('Error during call to suggestCharts:', error);\n",
              "      }\n",
              "      quickchartButtonEl.classList.remove('colab-df-spinner');\n",
              "      quickchartButtonEl.classList.add('colab-df-quickchart-complete');\n",
              "    }\n",
              "    (() => {\n",
              "      let quickchartButtonEl =\n",
              "        document.querySelector('#df-63286fd4-0641-495c-b176-64e50ecc9aec button');\n",
              "      quickchartButtonEl.style.display =\n",
              "        google.colab.kernel.accessAllowed ? 'block' : 'none';\n",
              "    })();\n",
              "  </script>\n",
              "</div>\n",
              "    </div>\n",
              "  </div>\n"
            ],
            "application/vnd.google.colaboratory.intrinsic+json": {
              "type": "dataframe",
              "repr_error": "0"
            }
          },
          "metadata": {},
          "execution_count": 5
        }
      ]
    },
    {
      "cell_type": "markdown",
      "metadata": {
        "ExecuteTime": {
          "end_time": "2022-11-01T16:50:46.961201Z",
          "start_time": "2022-11-01T16:50:46.955894Z"
        },
        "id": "3e4c4fb3"
      },
      "source": [
        "Очікуваний результат:"
      ]
    },
    {
      "cell_type": "markdown",
      "metadata": {
        "id": "f037ac2b"
      },
      "source": [
        "![](https://drive.google.com/uc?export=view&id=1F5XlzBOOTMsedpsYqz6NnXjIPTDe6jpx)"
      ]
    },
    {
      "cell_type": "markdown",
      "source": [
        "2. Виведіть рядки даних з індексами з 615 по 619 включно."
      ],
      "metadata": {
        "id": "167fuYhB_nCP"
      }
    },
    {
      "cell_type": "code",
      "source": [
        "df[615:620]"
      ],
      "metadata": {
        "id": "ytZryG8Z_1f_",
        "colab": {
          "base_uri": "https://localhost:8080/",
          "height": 323
        },
        "outputId": "2b61c522-29e9-47e9-840f-a8c1ef786042"
      },
      "execution_count": 6,
      "outputs": [
        {
          "output_type": "execute_result",
          "data": {
            "text/plain": [
              "      Invoice ID Branch       City Customer type  Gender  \\\n",
              "615  509-29-3912      A     Yangon        Member  Female   \n",
              "616  327-40-9673      B   Mandalay        Member    Male   \n",
              "617  840-19-2096      C  Naypyitaw        Member    Male   \n",
              "618  828-46-6863      A     Yangon        Member    Male   \n",
              "619  641-96-3695      C  Naypyitaw        Member  Female   \n",
              "\n",
              "               Product line  Unit price  Quantity   Tax 5%     Total  \\\n",
              "615       Sports and travel       38.72         9  17.4240  365.9040   \n",
              "616       Sports and travel       72.60         6  21.7800  457.3800   \n",
              "617  Electronic accessories       87.91         5  21.9775  461.5275   \n",
              "618      Food and beverages       98.53         6  29.5590  620.7390   \n",
              "619     Fashion accessories       43.46         6  13.0380  273.7980   \n",
              "\n",
              "          Date   Time      Payment    cogs  gross margin percentage  \\\n",
              "615  3/20/2019  12:24      Ewallet  348.48                 4.761905   \n",
              "616  1/13/2019  19:51         Cash  435.60                 4.761905   \n",
              "617  3/14/2019  18:10      Ewallet  439.55                 4.761905   \n",
              "618  1/23/2019  11:22  Credit card  591.18                 4.761905   \n",
              "619   2/7/2019  17:55      Ewallet  260.76                 4.761905   \n",
              "\n",
              "     gross income  Rating  \n",
              "615       17.4240     4.2  \n",
              "616       21.7800     6.9  \n",
              "617       21.9775     4.4  \n",
              "618       29.5590     4.0  \n",
              "619       13.0380     8.5  "
            ],
            "text/html": [
              "\n",
              "  <div id=\"df-48a6290b-0d98-4645-b67e-0bf4e24d00b0\" class=\"colab-df-container\">\n",
              "    <div>\n",
              "<style scoped>\n",
              "    .dataframe tbody tr th:only-of-type {\n",
              "        vertical-align: middle;\n",
              "    }\n",
              "\n",
              "    .dataframe tbody tr th {\n",
              "        vertical-align: top;\n",
              "    }\n",
              "\n",
              "    .dataframe thead th {\n",
              "        text-align: right;\n",
              "    }\n",
              "</style>\n",
              "<table border=\"1\" class=\"dataframe\">\n",
              "  <thead>\n",
              "    <tr style=\"text-align: right;\">\n",
              "      <th></th>\n",
              "      <th>Invoice ID</th>\n",
              "      <th>Branch</th>\n",
              "      <th>City</th>\n",
              "      <th>Customer type</th>\n",
              "      <th>Gender</th>\n",
              "      <th>Product line</th>\n",
              "      <th>Unit price</th>\n",
              "      <th>Quantity</th>\n",
              "      <th>Tax 5%</th>\n",
              "      <th>Total</th>\n",
              "      <th>Date</th>\n",
              "      <th>Time</th>\n",
              "      <th>Payment</th>\n",
              "      <th>cogs</th>\n",
              "      <th>gross margin percentage</th>\n",
              "      <th>gross income</th>\n",
              "      <th>Rating</th>\n",
              "    </tr>\n",
              "  </thead>\n",
              "  <tbody>\n",
              "    <tr>\n",
              "      <th>615</th>\n",
              "      <td>509-29-3912</td>\n",
              "      <td>A</td>\n",
              "      <td>Yangon</td>\n",
              "      <td>Member</td>\n",
              "      <td>Female</td>\n",
              "      <td>Sports and travel</td>\n",
              "      <td>38.72</td>\n",
              "      <td>9</td>\n",
              "      <td>17.4240</td>\n",
              "      <td>365.9040</td>\n",
              "      <td>3/20/2019</td>\n",
              "      <td>12:24</td>\n",
              "      <td>Ewallet</td>\n",
              "      <td>348.48</td>\n",
              "      <td>4.761905</td>\n",
              "      <td>17.4240</td>\n",
              "      <td>4.2</td>\n",
              "    </tr>\n",
              "    <tr>\n",
              "      <th>616</th>\n",
              "      <td>327-40-9673</td>\n",
              "      <td>B</td>\n",
              "      <td>Mandalay</td>\n",
              "      <td>Member</td>\n",
              "      <td>Male</td>\n",
              "      <td>Sports and travel</td>\n",
              "      <td>72.60</td>\n",
              "      <td>6</td>\n",
              "      <td>21.7800</td>\n",
              "      <td>457.3800</td>\n",
              "      <td>1/13/2019</td>\n",
              "      <td>19:51</td>\n",
              "      <td>Cash</td>\n",
              "      <td>435.60</td>\n",
              "      <td>4.761905</td>\n",
              "      <td>21.7800</td>\n",
              "      <td>6.9</td>\n",
              "    </tr>\n",
              "    <tr>\n",
              "      <th>617</th>\n",
              "      <td>840-19-2096</td>\n",
              "      <td>C</td>\n",
              "      <td>Naypyitaw</td>\n",
              "      <td>Member</td>\n",
              "      <td>Male</td>\n",
              "      <td>Electronic accessories</td>\n",
              "      <td>87.91</td>\n",
              "      <td>5</td>\n",
              "      <td>21.9775</td>\n",
              "      <td>461.5275</td>\n",
              "      <td>3/14/2019</td>\n",
              "      <td>18:10</td>\n",
              "      <td>Ewallet</td>\n",
              "      <td>439.55</td>\n",
              "      <td>4.761905</td>\n",
              "      <td>21.9775</td>\n",
              "      <td>4.4</td>\n",
              "    </tr>\n",
              "    <tr>\n",
              "      <th>618</th>\n",
              "      <td>828-46-6863</td>\n",
              "      <td>A</td>\n",
              "      <td>Yangon</td>\n",
              "      <td>Member</td>\n",
              "      <td>Male</td>\n",
              "      <td>Food and beverages</td>\n",
              "      <td>98.53</td>\n",
              "      <td>6</td>\n",
              "      <td>29.5590</td>\n",
              "      <td>620.7390</td>\n",
              "      <td>1/23/2019</td>\n",
              "      <td>11:22</td>\n",
              "      <td>Credit card</td>\n",
              "      <td>591.18</td>\n",
              "      <td>4.761905</td>\n",
              "      <td>29.5590</td>\n",
              "      <td>4.0</td>\n",
              "    </tr>\n",
              "    <tr>\n",
              "      <th>619</th>\n",
              "      <td>641-96-3695</td>\n",
              "      <td>C</td>\n",
              "      <td>Naypyitaw</td>\n",
              "      <td>Member</td>\n",
              "      <td>Female</td>\n",
              "      <td>Fashion accessories</td>\n",
              "      <td>43.46</td>\n",
              "      <td>6</td>\n",
              "      <td>13.0380</td>\n",
              "      <td>273.7980</td>\n",
              "      <td>2/7/2019</td>\n",
              "      <td>17:55</td>\n",
              "      <td>Ewallet</td>\n",
              "      <td>260.76</td>\n",
              "      <td>4.761905</td>\n",
              "      <td>13.0380</td>\n",
              "      <td>8.5</td>\n",
              "    </tr>\n",
              "  </tbody>\n",
              "</table>\n",
              "</div>\n",
              "    <div class=\"colab-df-buttons\">\n",
              "\n",
              "  <div class=\"colab-df-container\">\n",
              "    <button class=\"colab-df-convert\" onclick=\"convertToInteractive('df-48a6290b-0d98-4645-b67e-0bf4e24d00b0')\"\n",
              "            title=\"Convert this dataframe to an interactive table.\"\n",
              "            style=\"display:none;\">\n",
              "\n",
              "  <svg xmlns=\"http://www.w3.org/2000/svg\" height=\"24px\" viewBox=\"0 -960 960 960\">\n",
              "    <path d=\"M120-120v-720h720v720H120Zm60-500h600v-160H180v160Zm220 220h160v-160H400v160Zm0 220h160v-160H400v160ZM180-400h160v-160H180v160Zm440 0h160v-160H620v160ZM180-180h160v-160H180v160Zm440 0h160v-160H620v160Z\"/>\n",
              "  </svg>\n",
              "    </button>\n",
              "\n",
              "  <style>\n",
              "    .colab-df-container {\n",
              "      display:flex;\n",
              "      gap: 12px;\n",
              "    }\n",
              "\n",
              "    .colab-df-convert {\n",
              "      background-color: #E8F0FE;\n",
              "      border: none;\n",
              "      border-radius: 50%;\n",
              "      cursor: pointer;\n",
              "      display: none;\n",
              "      fill: #1967D2;\n",
              "      height: 32px;\n",
              "      padding: 0 0 0 0;\n",
              "      width: 32px;\n",
              "    }\n",
              "\n",
              "    .colab-df-convert:hover {\n",
              "      background-color: #E2EBFA;\n",
              "      box-shadow: 0px 1px 2px rgba(60, 64, 67, 0.3), 0px 1px 3px 1px rgba(60, 64, 67, 0.15);\n",
              "      fill: #174EA6;\n",
              "    }\n",
              "\n",
              "    .colab-df-buttons div {\n",
              "      margin-bottom: 4px;\n",
              "    }\n",
              "\n",
              "    [theme=dark] .colab-df-convert {\n",
              "      background-color: #3B4455;\n",
              "      fill: #D2E3FC;\n",
              "    }\n",
              "\n",
              "    [theme=dark] .colab-df-convert:hover {\n",
              "      background-color: #434B5C;\n",
              "      box-shadow: 0px 1px 3px 1px rgba(0, 0, 0, 0.15);\n",
              "      filter: drop-shadow(0px 1px 2px rgba(0, 0, 0, 0.3));\n",
              "      fill: #FFFFFF;\n",
              "    }\n",
              "  </style>\n",
              "\n",
              "    <script>\n",
              "      const buttonEl =\n",
              "        document.querySelector('#df-48a6290b-0d98-4645-b67e-0bf4e24d00b0 button.colab-df-convert');\n",
              "      buttonEl.style.display =\n",
              "        google.colab.kernel.accessAllowed ? 'block' : 'none';\n",
              "\n",
              "      async function convertToInteractive(key) {\n",
              "        const element = document.querySelector('#df-48a6290b-0d98-4645-b67e-0bf4e24d00b0');\n",
              "        const dataTable =\n",
              "          await google.colab.kernel.invokeFunction('convertToInteractive',\n",
              "                                                    [key], {});\n",
              "        if (!dataTable) return;\n",
              "\n",
              "        const docLinkHtml = 'Like what you see? Visit the ' +\n",
              "          '<a target=\"_blank\" href=https://colab.research.google.com/notebooks/data_table.ipynb>data table notebook</a>'\n",
              "          + ' to learn more about interactive tables.';\n",
              "        element.innerHTML = '';\n",
              "        dataTable['output_type'] = 'display_data';\n",
              "        await google.colab.output.renderOutput(dataTable, element);\n",
              "        const docLink = document.createElement('div');\n",
              "        docLink.innerHTML = docLinkHtml;\n",
              "        element.appendChild(docLink);\n",
              "      }\n",
              "    </script>\n",
              "  </div>\n",
              "\n",
              "\n",
              "<div id=\"df-3a75a9d9-ff73-4a48-bd5b-a597628af55c\">\n",
              "  <button class=\"colab-df-quickchart\" onclick=\"quickchart('df-3a75a9d9-ff73-4a48-bd5b-a597628af55c')\"\n",
              "            title=\"Suggest charts\"\n",
              "            style=\"display:none;\">\n",
              "\n",
              "<svg xmlns=\"http://www.w3.org/2000/svg\" height=\"24px\"viewBox=\"0 0 24 24\"\n",
              "     width=\"24px\">\n",
              "    <g>\n",
              "        <path d=\"M19 3H5c-1.1 0-2 .9-2 2v14c0 1.1.9 2 2 2h14c1.1 0 2-.9 2-2V5c0-1.1-.9-2-2-2zM9 17H7v-7h2v7zm4 0h-2V7h2v10zm4 0h-2v-4h2v4z\"/>\n",
              "    </g>\n",
              "</svg>\n",
              "  </button>\n",
              "\n",
              "<style>\n",
              "  .colab-df-quickchart {\n",
              "      --bg-color: #E8F0FE;\n",
              "      --fill-color: #1967D2;\n",
              "      --hover-bg-color: #E2EBFA;\n",
              "      --hover-fill-color: #174EA6;\n",
              "      --disabled-fill-color: #AAA;\n",
              "      --disabled-bg-color: #DDD;\n",
              "  }\n",
              "\n",
              "  [theme=dark] .colab-df-quickchart {\n",
              "      --bg-color: #3B4455;\n",
              "      --fill-color: #D2E3FC;\n",
              "      --hover-bg-color: #434B5C;\n",
              "      --hover-fill-color: #FFFFFF;\n",
              "      --disabled-bg-color: #3B4455;\n",
              "      --disabled-fill-color: #666;\n",
              "  }\n",
              "\n",
              "  .colab-df-quickchart {\n",
              "    background-color: var(--bg-color);\n",
              "    border: none;\n",
              "    border-radius: 50%;\n",
              "    cursor: pointer;\n",
              "    display: none;\n",
              "    fill: var(--fill-color);\n",
              "    height: 32px;\n",
              "    padding: 0;\n",
              "    width: 32px;\n",
              "  }\n",
              "\n",
              "  .colab-df-quickchart:hover {\n",
              "    background-color: var(--hover-bg-color);\n",
              "    box-shadow: 0 1px 2px rgba(60, 64, 67, 0.3), 0 1px 3px 1px rgba(60, 64, 67, 0.15);\n",
              "    fill: var(--button-hover-fill-color);\n",
              "  }\n",
              "\n",
              "  .colab-df-quickchart-complete:disabled,\n",
              "  .colab-df-quickchart-complete:disabled:hover {\n",
              "    background-color: var(--disabled-bg-color);\n",
              "    fill: var(--disabled-fill-color);\n",
              "    box-shadow: none;\n",
              "  }\n",
              "\n",
              "  .colab-df-spinner {\n",
              "    border: 2px solid var(--fill-color);\n",
              "    border-color: transparent;\n",
              "    border-bottom-color: var(--fill-color);\n",
              "    animation:\n",
              "      spin 1s steps(1) infinite;\n",
              "  }\n",
              "\n",
              "  @keyframes spin {\n",
              "    0% {\n",
              "      border-color: transparent;\n",
              "      border-bottom-color: var(--fill-color);\n",
              "      border-left-color: var(--fill-color);\n",
              "    }\n",
              "    20% {\n",
              "      border-color: transparent;\n",
              "      border-left-color: var(--fill-color);\n",
              "      border-top-color: var(--fill-color);\n",
              "    }\n",
              "    30% {\n",
              "      border-color: transparent;\n",
              "      border-left-color: var(--fill-color);\n",
              "      border-top-color: var(--fill-color);\n",
              "      border-right-color: var(--fill-color);\n",
              "    }\n",
              "    40% {\n",
              "      border-color: transparent;\n",
              "      border-right-color: var(--fill-color);\n",
              "      border-top-color: var(--fill-color);\n",
              "    }\n",
              "    60% {\n",
              "      border-color: transparent;\n",
              "      border-right-color: var(--fill-color);\n",
              "    }\n",
              "    80% {\n",
              "      border-color: transparent;\n",
              "      border-right-color: var(--fill-color);\n",
              "      border-bottom-color: var(--fill-color);\n",
              "    }\n",
              "    90% {\n",
              "      border-color: transparent;\n",
              "      border-bottom-color: var(--fill-color);\n",
              "    }\n",
              "  }\n",
              "</style>\n",
              "\n",
              "  <script>\n",
              "    async function quickchart(key) {\n",
              "      const quickchartButtonEl =\n",
              "        document.querySelector('#' + key + ' button');\n",
              "      quickchartButtonEl.disabled = true;  // To prevent multiple clicks.\n",
              "      quickchartButtonEl.classList.add('colab-df-spinner');\n",
              "      try {\n",
              "        const charts = await google.colab.kernel.invokeFunction(\n",
              "            'suggestCharts', [key], {});\n",
              "      } catch (error) {\n",
              "        console.error('Error during call to suggestCharts:', error);\n",
              "      }\n",
              "      quickchartButtonEl.classList.remove('colab-df-spinner');\n",
              "      quickchartButtonEl.classList.add('colab-df-quickchart-complete');\n",
              "    }\n",
              "    (() => {\n",
              "      let quickchartButtonEl =\n",
              "        document.querySelector('#df-3a75a9d9-ff73-4a48-bd5b-a597628af55c button');\n",
              "      quickchartButtonEl.style.display =\n",
              "        google.colab.kernel.accessAllowed ? 'block' : 'none';\n",
              "    })();\n",
              "  </script>\n",
              "</div>\n",
              "    </div>\n",
              "  </div>\n"
            ],
            "application/vnd.google.colaboratory.intrinsic+json": {
              "type": "dataframe",
              "repr_error": "0"
            }
          },
          "metadata": {},
          "execution_count": 6
        }
      ]
    },
    {
      "cell_type": "markdown",
      "metadata": {
        "id": "2d54e0e4"
      },
      "source": [
        "3. Виведіть назви колонок у наборі даних разом з їхніми типами. Це можна зробити кількома способами, важливо аби в результаті були назви колонок і відповідні їм типи."
      ]
    },
    {
      "cell_type": "code",
      "execution_count": 7,
      "metadata": {
        "ExecuteTime": {
          "end_time": "2021-12-08T18:46:42.609601Z",
          "start_time": "2021-12-08T18:46:42.604424Z"
        },
        "id": "513f5a99",
        "colab": {
          "base_uri": "https://localhost:8080/"
        },
        "outputId": "20b6b281-1c5d-462b-86a9-a954e07bcd62"
      },
      "outputs": [
        {
          "output_type": "execute_result",
          "data": {
            "text/plain": [
              "Invoice ID                  object\n",
              "Branch                      object\n",
              "City                        object\n",
              "Customer type               object\n",
              "Gender                      object\n",
              "Product line                object\n",
              "Unit price                 float64\n",
              "Quantity                     int64\n",
              "Tax 5%                     float64\n",
              "Total                      float64\n",
              "Date                        object\n",
              "Time                        object\n",
              "Payment                     object\n",
              "cogs                       float64\n",
              "gross margin percentage    float64\n",
              "gross income               float64\n",
              "Rating                     float64\n",
              "dtype: object"
            ]
          },
          "metadata": {},
          "execution_count": 7
        }
      ],
      "source": [
        "df.dtypes"
      ]
    },
    {
      "cell_type": "markdown",
      "metadata": {
        "ExecuteTime": {
          "end_time": "2022-11-01T16:50:46.961201Z",
          "start_time": "2022-11-01T16:50:46.955894Z"
        },
        "id": "3c380f93"
      },
      "source": [
        "Очікуваний результат (один з можливих форматів):"
      ]
    },
    {
      "cell_type": "markdown",
      "metadata": {
        "id": "28f7beff"
      },
      "source": [
        "![](https://drive.google.com/uc?export=view&id=1ASh6-S-_f3X9fTQAPIvnHMFZamTBjNkL)"
      ]
    },
    {
      "cell_type": "markdown",
      "source": [
        "4. Користуючись методом `DataFrame.describe()` виявіть 1, 25, 50, 75 і 99 персентилі колонки `gross income`. Знайдіть, яке значення відповідає 75отму персентилю цієї колонки і що це означає? Як би Ви його пояснили простими словами колегам? Відповідь напишіть текстом в окремій клітинці типу Markdown."
      ],
      "metadata": {
        "id": "aX2LEmuG8xyA"
      }
    },
    {
      "cell_type": "code",
      "source": [
        "with pd.option_context(\"display.precision\", 2):\n",
        "    display(df['gross income'].describe(percentiles=[0.01, 0.25, 0.5, 0.75, 0.99]))"
      ],
      "metadata": {
        "id": "Paso6rPV894s",
        "colab": {
          "base_uri": "https://localhost:8080/",
          "height": 204
        },
        "outputId": "0169ab47-7497-4252-9592-be056fe7c966"
      },
      "execution_count": 8,
      "outputs": [
        {
          "output_type": "display_data",
          "data": {
            "text/plain": [
              "count    1000.00\n",
              "mean       15.38\n",
              "std        11.71\n",
              "min         0.51\n",
              "1%          0.91\n",
              "25%         5.92\n",
              "50%        12.09\n",
              "75%        22.45\n",
              "99%        45.25\n",
              "max        49.65\n",
              "Name: gross income, dtype: float64"
            ]
          },
          "metadata": {}
        }
      ]
    },
    {
      "cell_type": "markdown",
      "source": [
        "**75-й персентиль для gross income означає, що 75% людей з вибірки має дохід нижче за 22.45.**"
      ],
      "metadata": {
        "id": "DmJUPRHVb4MA"
      }
    },
    {
      "cell_type": "markdown",
      "source": [
        "5. Виведіть кількість інвойсів за кожним унікальним містом в наборі даних.\n",
        "\n",
        "  Підказка: інвойс - це один рядок в цьому наборі даних, ми можемо цим скористатись аби швидко отримати відповідь."
      ],
      "metadata": {
        "id": "X2FWqJYr9Eul"
      }
    },
    {
      "cell_type": "code",
      "source": [
        "df.City.value_counts()"
      ],
      "metadata": {
        "id": "StVtKfWY-13y",
        "colab": {
          "base_uri": "https://localhost:8080/"
        },
        "outputId": "8ca346f8-51ed-4707-ecb5-b561e1e47c45"
      },
      "execution_count": 9,
      "outputs": [
        {
          "output_type": "execute_result",
          "data": {
            "text/plain": [
              "Yangon       340\n",
              "Mandalay     332\n",
              "Naypyitaw    328\n",
              "Name: City, dtype: int64"
            ]
          },
          "metadata": {},
          "execution_count": 9
        }
      ]
    },
    {
      "cell_type": "markdown",
      "source": [
        "6. Виведіть, який відсоток інвойсів припадає на кожне унікальне місто."
      ],
      "metadata": {
        "id": "-k-yG_rR-3Og"
      }
    },
    {
      "cell_type": "code",
      "source": [
        "df.City.value_counts(normalize=True)"
      ],
      "metadata": {
        "id": "_PBLxP7B_LdF",
        "colab": {
          "base_uri": "https://localhost:8080/"
        },
        "outputId": "5f3fd3a4-0995-476f-9c9d-760738734e70"
      },
      "execution_count": 10,
      "outputs": [
        {
          "output_type": "execute_result",
          "data": {
            "text/plain": [
              "Yangon       0.340\n",
              "Mandalay     0.332\n",
              "Naypyitaw    0.328\n",
              "Name: City, dtype: float64"
            ]
          },
          "metadata": {},
          "execution_count": 10
        }
      ]
    },
    {
      "cell_type": "markdown",
      "source": [
        "7.1. Використовуючи фільтрацію даних, знайдіть середнє значення `gross income` для міст `Yangon` та `Mandalay`. В якому місті воно більше?\n",
        "\n",
        "7.2 Сформулюйте 3 гіпотези, чому в одному місті gross income вище, як можна дізнатись чи правдива ця гіпотеза з використанням даних (наявних і додаткових), та як висновки з цих гіпотез можна використати для прийняття рішень як підвищити прибуток в мережі супермаркетів. Відповідь напишіть текстом в окремій клітинці типу Markdown.\n",
        "\n",
        "Це завдання - на продуктове мислення. Якщо не знаєте, які гіпотези сформулювати - напишіть ті, які здаються вам зовсім примітивними. Важливо навчитись висловлювати свої гіпотези щодо даних, і з часом та досвідом вони будуть ставати щоразу глибше і точніше. Весь аналіз даних будується на тому, що ми перевіряємо певні гіпотези та робимо висновки і рекоемндації на основі своїх досліджень."
      ],
      "metadata": {
        "id": "RUkVnzp_B5uZ"
      }
    },
    {
      "cell_type": "code",
      "source": [
        "df['gross income'][df.City == 'Yangon'].mean()"
      ],
      "metadata": {
        "id": "8RwoGA7l_OhV",
        "colab": {
          "base_uri": "https://localhost:8080/"
        },
        "outputId": "e9f5ab34-85c0-4ce4-ebe3-1d841bf8d48b"
      },
      "execution_count": 11,
      "outputs": [
        {
          "output_type": "execute_result",
          "data": {
            "text/plain": [
              "14.874001470588235"
            ]
          },
          "metadata": {},
          "execution_count": 11
        }
      ]
    },
    {
      "cell_type": "code",
      "source": [
        "df['gross income'][df.City == 'Mandalay'].mean()"
      ],
      "metadata": {
        "colab": {
          "base_uri": "https://localhost:8080/"
        },
        "id": "O8d_md3tdsDW",
        "outputId": "fd8ae3e0-80b0-4465-c714-2617c70698b7"
      },
      "execution_count": 12,
      "outputs": [
        {
          "output_type": "execute_result",
          "data": {
            "text/plain": [
              "15.232024096385542"
            ]
          },
          "metadata": {},
          "execution_count": 12
        }
      ]
    },
    {
      "cell_type": "markdown",
      "source": [
        "  3 продуктові гіпотези:\n",
        "\n",
        "  1.   Магазини мають різну площу/асортимент, що і призвело до різниці у gross income.\n",
        "  2.   Магазини були відкриті в різний час. Тобто один з них мав менше часу, щоб закумалювати gross income.\n",
        "  3. В цих містах різна демографічна структура. Наприклад, в місті Yangon серед населення переважають пенсіонери, які мають нижчу купівельну спроможність, що і веде за собою зниження gross income."
      ],
      "metadata": {
        "id": "CljWeITIgl8p"
      }
    },
    {
      "cell_type": "markdown",
      "source": [
        "8. Для продовження дослідження різниці у прибутках в магазинах давайте зʼясуємо, чи відрізняється маржа ('gross margin percentage') для різних інвойсів в магазині? Перевірте це програмно на даних виходячи з того функціоналу, який ми вже пройшли у лекціях.\n",
        "\n",
        "Дайте на основі отриманого результату відповідь: \"У всіх всіх інвойсах однакова маржа\" або \"Маржа відрізняється для різних інвойсів\"."
      ],
      "metadata": {
        "id": "wNMcnnPQOrwb"
      }
    },
    {
      "cell_type": "code",
      "source": [
        "with pd.option_context(\"display.precision\", 2):\n",
        "    display(df['gross margin percentage'].describe(percentiles=[0.01, 0.25, 0.5, 0.75, 0.99]))"
      ],
      "metadata": {
        "id": "mTWYzSVaPNsb",
        "colab": {
          "base_uri": "https://localhost:8080/",
          "height": 204
        },
        "outputId": "f259c5aa-7e5d-475b-8ead-ec4bb930a95a"
      },
      "execution_count": 13,
      "outputs": [
        {
          "output_type": "display_data",
          "data": {
            "text/plain": [
              "count    1000.00\n",
              "mean        4.76\n",
              "std         0.00\n",
              "min         4.76\n",
              "1%          4.76\n",
              "25%         4.76\n",
              "50%         4.76\n",
              "75%         4.76\n",
              "99%         4.76\n",
              "max         4.76\n",
              "Name: gross margin percentage, dtype: float64"
            ]
          },
          "metadata": {}
        }
      ]
    },
    {
      "cell_type": "markdown",
      "source": [
        "**У всіх всіх інвойсах однакова маржа.**"
      ],
      "metadata": {
        "id": "E9Rd9s4vgT4d"
      }
    },
    {
      "cell_type": "markdown",
      "source": [
        "9. Врахуовуючи висновок в попередньому завданні, дослідимо як продаються в цих містах різні категорії товарів. Виведіть відсотковий розпоіділ кількості інвойсів по категоріям товарів `Product line` в містах `Yangon` та `Mandalay`."
      ],
      "metadata": {
        "id": "NF3oAHQOOSN5"
      }
    },
    {
      "cell_type": "code",
      "source": [
        "df['Product line'][df.City == 'Yangon'].value_counts(normalize=True)"
      ],
      "metadata": {
        "id": "nUgdZmbzQDo4",
        "colab": {
          "base_uri": "https://localhost:8080/"
        },
        "outputId": "979ae389-e2f2-4858-84ee-886356f14a1a"
      },
      "execution_count": 14,
      "outputs": [
        {
          "output_type": "execute_result",
          "data": {
            "text/plain": [
              "Home and lifestyle        0.191176\n",
              "Electronic accessories    0.176471\n",
              "Sports and travel         0.173529\n",
              "Food and beverages        0.170588\n",
              "Fashion accessories       0.150000\n",
              "Health and beauty         0.138235\n",
              "Name: Product line, dtype: float64"
            ]
          },
          "metadata": {},
          "execution_count": 14
        }
      ]
    },
    {
      "cell_type": "code",
      "source": [
        "df['Product line'][df.City == 'Mandalay'].value_counts(normalize=True)"
      ],
      "metadata": {
        "colab": {
          "base_uri": "https://localhost:8080/"
        },
        "id": "-GwfEWfdhAaA",
        "outputId": "6fe238df-2620-4680-abbe-81ef69c0beda"
      },
      "execution_count": 15,
      "outputs": [
        {
          "output_type": "execute_result",
          "data": {
            "text/plain": [
              "Fashion accessories       0.186747\n",
              "Sports and travel         0.186747\n",
              "Electronic accessories    0.165663\n",
              "Health and beauty         0.159639\n",
              "Food and beverages        0.150602\n",
              "Home and lifestyle        0.150602\n",
              "Name: Product line, dtype: float64"
            ]
          },
          "metadata": {},
          "execution_count": 15
        }
      ]
    }
  ]
}