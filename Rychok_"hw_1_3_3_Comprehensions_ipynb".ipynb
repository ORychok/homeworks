{
  "nbformat": 4,
  "nbformat_minor": 0,
  "metadata": {
    "colab": {
      "provenance": [],
      "include_colab_link": true
    },
    "kernelspec": {
      "name": "python3",
      "display_name": "Python 3"
    },
    "language_info": {
      "name": "python"
    }
  },
  "cells": [
    {
      "cell_type": "markdown",
      "metadata": {
        "id": "view-in-github",
        "colab_type": "text"
      },
      "source": [
        "<a href=\"https://colab.research.google.com/github/ORychok/homeworks/blob/main/Rychok_%22hw_1_3_3_Comprehensions_ipynb%22.ipynb\" target=\"_parent\"><img src=\"https://colab.research.google.com/assets/colab-badge.svg\" alt=\"Open In Colab\"/></a>"
      ]
    },
    {
      "cell_type": "markdown",
      "source": [
        "#Домашнє завдання до теми \"Comprehensions в Python\""
      ],
      "metadata": {
        "id": "jGTe7raw9lB_"
      }
    },
    {
      "cell_type": "markdown",
      "source": [
        "Для наступних завдань у нас є наступний список:"
      ],
      "metadata": {
        "id": "grIbI4ZZ7miJ"
      }
    },
    {
      "cell_type": "code",
      "source": [
        "numbers = [42, 51, 29, 2, 13, 44, 80, 66, 16]"
      ],
      "metadata": {
        "id": "nFOAtgsP7nnc"
      },
      "execution_count": 1,
      "outputs": []
    },
    {
      "cell_type": "markdown",
      "source": [
        "1. Використовуючи цикл `for` cтворіть новий список `numbers_squared`, де кожен елемент списку `numbers` є домноженим на 2.\n",
        "\n",
        "Нагадаю, що фактично коли ми з допомогою циклу отримуємо новий список, то ми спочатку створюємо пустий список, а потім додаємо в нього новий елемент на кожній ітерації.\n",
        "\n",
        "Новий елемент буде в даному випадку результатом домножання чергового елемента вихідного списку `numbers` на 2."
      ],
      "metadata": {
        "id": "_sRe19Ym6zDc"
      }
    },
    {
      "cell_type": "code",
      "execution_count": 2,
      "metadata": {
        "id": "EhGdKWo06nGS",
        "colab": {
          "base_uri": "https://localhost:8080/"
        },
        "outputId": "9fb929aa-b968-411c-d72b-b73dbf88b931"
      },
      "outputs": [
        {
          "output_type": "execute_result",
          "data": {
            "text/plain": [
              "[84, 102, 58, 4, 26, 88, 160, 132, 32]"
            ]
          },
          "metadata": {},
          "execution_count": 2
        }
      ],
      "source": [
        "numbers_squared = []\n",
        "for i in numbers:\n",
        "  numbers_squared.append(i*2)\n",
        "numbers_squared"
      ]
    },
    {
      "cell_type": "markdown",
      "source": [
        "Очікуваний результат: `[84, 102, 58, 4, 26, 88, 160, 132, 32]`"
      ],
      "metadata": {
        "id": "XKpWtN8N64np"
      }
    },
    {
      "cell_type": "markdown",
      "source": [
        "2. Використовуючи `list comprehension` cтворіть новий список `numbers_squared_lh`, де кожен елемент списку `numbers` є домноженим 2.\n",
        "Так, операція, яку ми викнуємо над кожним елементом вихідного списку, та сама, що і в попередньому завданні, але інший спосіб отримання результату."
      ],
      "metadata": {
        "id": "aHmdOLkZ7eQ2"
      }
    },
    {
      "cell_type": "code",
      "source": [
        "numbers_squared_lh = [i*2  for i in numbers]\n",
        "numbers_squared_lh"
      ],
      "metadata": {
        "id": "fsKlUM9x7T7n",
        "colab": {
          "base_uri": "https://localhost:8080/"
        },
        "outputId": "a6b051df-91b1-43bd-f731-260e4ae3f786"
      },
      "execution_count": 3,
      "outputs": [
        {
          "output_type": "execute_result",
          "data": {
            "text/plain": [
              "[84, 102, 58, 4, 26, 88, 160, 132, 32]"
            ]
          },
          "metadata": {},
          "execution_count": 3
        }
      ]
    },
    {
      "cell_type": "markdown",
      "source": [
        "3. У нас вже є знайдене середнє значення за списком - воно визначене в змінній `numbers_mean`.\n",
        "\n",
        "  Використовуючи цикл, створіть новий список `numbers_gt_mean`, який порівнює кожен елемент з цим середнім значенням за списком за наступним правилом: \"якщо цей елемент спиcку `numbers` є більшим за `numbers_mean`, то запишемо 1, інакше 0\". Виведіть новий список на екран."
      ],
      "metadata": {
        "id": "tKpPGIQN7fc5"
      }
    },
    {
      "cell_type": "code",
      "source": [
        "numbers_mean = 38.11"
      ],
      "metadata": {
        "id": "FKGz-HqgwAdX"
      },
      "execution_count": 4,
      "outputs": []
    },
    {
      "cell_type": "code",
      "source": [
        "numbers_gt_mean = []\n",
        "for i in numbers:\n",
        "  if i > numbers_mean:\n",
        "    numbers_gt_mean.append(1)\n",
        "  else:\n",
        "    numbers_gt_mean.append(0)\n",
        "print(numbers_gt_mean)"
      ],
      "metadata": {
        "id": "obelsT8N72Lp",
        "colab": {
          "base_uri": "https://localhost:8080/"
        },
        "outputId": "03e79e27-65c1-4932-e583-7c4c1ccc2acd"
      },
      "execution_count": 5,
      "outputs": [
        {
          "output_type": "stream",
          "name": "stdout",
          "text": [
            "[1, 1, 0, 0, 0, 1, 1, 1, 0]\n"
          ]
        }
      ]
    },
    {
      "cell_type": "markdown",
      "source": [
        "Очікуваний результат: `[1, 1, 0, 0, 0, 1, 1, 1, 0]`"
      ],
      "metadata": {
        "id": "kRUDVSRs720X"
      }
    },
    {
      "cell_type": "markdown",
      "source": [
        "4. Отримайте список за тим самим правилом, що в завданні 3, тільки тепер з list comprehension. Результат запишіть у змінну `numbers_gt_mean_lc`"
      ],
      "metadata": {
        "id": "dudK-NlE76z8"
      }
    },
    {
      "cell_type": "code",
      "source": [
        "numbers_gt_mean_lc = ['1' if i > numbers_mean else '0' for i in numbers]\n",
        "numbers_gt_mean_lc"
      ],
      "metadata": {
        "id": "kpnfXkUu76Ao",
        "colab": {
          "base_uri": "https://localhost:8080/"
        },
        "outputId": "03592b3e-8dc9-4f9a-a9b0-d290d2d9eaaf"
      },
      "execution_count": 6,
      "outputs": [
        {
          "output_type": "execute_result",
          "data": {
            "text/plain": [
              "['1', '1', '0', '0', '0', '1', '1', '1', '0']"
            ]
          },
          "metadata": {},
          "execution_count": 6
        }
      ]
    },
    {
      "cell_type": "markdown",
      "source": [
        "5. Заданий список `long`. З допомогою циклу створіть словник `n_repeats`, який містить інформацію \"скільки разів повторюється кожен унікальний елемент списку `long`\".\n",
        "Наприклад:\n",
        "```\n",
        "long = [1, 1, 2, 2, 3]\n",
        "# тоді `n_repeats` містить {1: 2, 2: 2, 3: 1}\n",
        "```\n",
        "\n",
        "Аби для кожного унікального елементу знайти, скільки разів він повторюється, виористайте метод списку `list.count(<елемент>)`.\n",
        "Виведіть `n_repeats` на екран.\n",
        "\n",
        "**Підказки**:\n",
        "1. Для початку може бути зручно отримати набір унікальних елементів списку.\n",
        "2. Порядок ключів в словнику не має значення! Тобто ключі в словнику не обовʼязково мають бути в тому ж порядку, як наведено в прикладі результату. Але кількості зустрічань для кожного елемента мають співпадати з наведеними."
      ],
      "metadata": {
        "id": "muQmE3Mz8KDx"
      }
    },
    {
      "cell_type": "code",
      "source": [
        "long = [75, 39, 95, 1, 91, 43, 97, 24, 86, 75, 92, 91, 15, 15, 75, 95, 54, 29, 55, 98]"
      ],
      "metadata": {
        "id": "T_MDOYpa8Khu"
      },
      "execution_count": 7,
      "outputs": []
    },
    {
      "cell_type": "code",
      "source": [
        "set_long = set(long)\n",
        "set_long"
      ],
      "metadata": {
        "id": "FCUf8p3y8RG0",
        "colab": {
          "base_uri": "https://localhost:8080/"
        },
        "outputId": "59cb6625-c682-45f4-e1dc-75e7932545f4"
      },
      "execution_count": 8,
      "outputs": [
        {
          "output_type": "execute_result",
          "data": {
            "text/plain": [
              "{1, 15, 24, 29, 39, 43, 54, 55, 75, 86, 91, 92, 95, 97, 98}"
            ]
          },
          "metadata": {},
          "execution_count": 8
        }
      ]
    },
    {
      "cell_type": "code",
      "source": [
        "count_long = []\n",
        "for i in set_long:\n",
        "  count_long.append(long.count(i))\n",
        "print(count_long)"
      ],
      "metadata": {
        "colab": {
          "base_uri": "https://localhost:8080/"
        },
        "id": "pJWJCI-PYA1L",
        "outputId": "dcfc9937-dc90-4782-ccd9-4566514db534"
      },
      "execution_count": 9,
      "outputs": [
        {
          "output_type": "stream",
          "name": "stdout",
          "text": [
            "[1, 1, 1, 1, 3, 1, 2, 1, 1, 1, 1, 2, 1, 1, 2]\n"
          ]
        }
      ]
    },
    {
      "cell_type": "code",
      "source": [
        "n_repeats = dict(zip(set_long, count_long))\n",
        "n_repeats"
      ],
      "metadata": {
        "colab": {
          "base_uri": "https://localhost:8080/"
        },
        "id": "yBUrXYBPeEYg",
        "outputId": "5ba05fef-7ac8-4081-d782-4bc8dee27574"
      },
      "execution_count": 10,
      "outputs": [
        {
          "output_type": "execute_result",
          "data": {
            "text/plain": [
              "{1: 1,\n",
              " 97: 1,\n",
              " 98: 1,\n",
              " 39: 1,\n",
              " 75: 3,\n",
              " 43: 1,\n",
              " 15: 2,\n",
              " 55: 1,\n",
              " 86: 1,\n",
              " 54: 1,\n",
              " 24: 1,\n",
              " 91: 2,\n",
              " 92: 1,\n",
              " 29: 1,\n",
              " 95: 2}"
            ]
          },
          "metadata": {},
          "execution_count": 10
        }
      ]
    },
    {
      "cell_type": "markdown",
      "source": [
        "Очікуваний результат:\n",
        "```\n",
        "{1: 1, 97: 1, 98: 1, 39: 1, 75: 3, 43: 1, 15: 2, 55: 1, 86: 1, 54: 1, 24: 1, 91: 2, 92: 1, 29: 1, 95: 2}\n",
        "\n",
        "```"
      ],
      "metadata": {
        "id": "WQbGyWde8RkT"
      }
    },
    {
      "cell_type": "markdown",
      "source": [
        "6. Виконайте ту саму операцію, що і в попередньому заваднні, але використовуючи `dict comprehension`. Результат запишіть у змінну `n_repeats_dh` та результат виведіть на екран."
      ],
      "metadata": {
        "id": "W-nelSSP8VeG"
      }
    },
    {
      "cell_type": "code",
      "source": [
        "n_repeats_dh = dict(zip(set(long), (long.count(i) for i in set(long))))\n",
        "n_repeats_dh"
      ],
      "metadata": {
        "id": "gDz_kE0N8YM4",
        "colab": {
          "base_uri": "https://localhost:8080/"
        },
        "outputId": "3d5f7766-7105-4cea-c24c-39c220b9f0a2"
      },
      "execution_count": 11,
      "outputs": [
        {
          "output_type": "execute_result",
          "data": {
            "text/plain": [
              "{1: 1,\n",
              " 97: 1,\n",
              " 98: 1,\n",
              " 39: 1,\n",
              " 75: 3,\n",
              " 43: 1,\n",
              " 15: 2,\n",
              " 55: 1,\n",
              " 86: 1,\n",
              " 54: 1,\n",
              " 24: 1,\n",
              " 91: 2,\n",
              " 92: 1,\n",
              " 29: 1,\n",
              " 95: 2}"
            ]
          },
          "metadata": {},
          "execution_count": 11
        }
      ]
    },
    {
      "cell_type": "markdown",
      "source": [
        "7. Знайдіть три найменші **унікальні** елементи в списку `long` та виведіть їх на екран."
      ],
      "metadata": {
        "id": "Th5wKghw8aYj"
      }
    },
    {
      "cell_type": "code",
      "source": [
        "sorted(set(long))[:3]\n"
      ],
      "metadata": {
        "id": "NG9PvlnK8a2Q",
        "colab": {
          "base_uri": "https://localhost:8080/"
        },
        "outputId": "4f15899b-8bb0-4eb3-98cc-4cc1d262f816"
      },
      "execution_count": 12,
      "outputs": [
        {
          "output_type": "execute_result",
          "data": {
            "text/plain": [
              "[1, 15, 24]"
            ]
          },
          "metadata": {},
          "execution_count": 12
        }
      ]
    },
    {
      "cell_type": "markdown",
      "source": [
        "Очікувана відповідь: [1, 15, 24]"
      ],
      "metadata": {
        "id": "XOW0GDBK8cn7"
      }
    }
  ]
}