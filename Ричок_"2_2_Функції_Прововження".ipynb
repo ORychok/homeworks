{
  "cells": [
    {
      "cell_type": "markdown",
      "metadata": {
        "id": "view-in-github",
        "colab_type": "text"
      },
      "source": [
        "<a href=\"https://colab.research.google.com/github/ORychok/homeworks/blob/main/%D0%A0%D0%B8%D1%87%D0%BE%D0%BA_%222_2_%D0%A4%D1%83%D0%BD%D0%BA%D1%86%D1%96%D1%97_%D0%9F%D1%80%D0%BE%D0%B2%D0%BE%D0%B2%D0%B6%D0%B5%D0%BD%D0%BD%D1%8F%22.ipynb\" target=\"_parent\"><img src=\"https://colab.research.google.com/assets/colab-badge.svg\" alt=\"Open In Colab\"/></a>"
      ]
    },
    {
      "cell_type": "markdown",
      "metadata": {
        "id": "981d9265"
      },
      "source": [
        "# Домашнє завдання до теми \"Functions\"\n",
        "В цьому домашньому завданні в деяких задачах є частини коду, та в кожному завданні описано, що з ними треба зробити, часто - просто виконати після того, як ви напишете частину, якої поки не вистачає. Пишіть, будь ласка, код, який реалізує рішення кожного завдання, безпосереньо під формулюванням завдання, створюючи нові клітинки. Можете створювати скільки завгодно клітинок для виконання одного завдання."
      ],
      "id": "981d9265"
    },
    {
      "cell_type": "markdown",
      "metadata": {
        "id": "eb55a967"
      },
      "source": [
        "1. Напишіть функцію `is_even`, яка для заданого числа визначає, чи воно є парним (тобто ділиться на 2 без остачі, наприклад 4, 10, 102). Функція має вертати результат типу bool.\n",
        "Продемонструйте результати робити функції запустивши код нижче."
      ],
      "id": "eb55a967"
    },
    {
      "cell_type": "code",
      "execution_count": 1,
      "metadata": {
        "ExecuteTime": {
          "end_time": "2023-06-13T09:48:47.072569Z",
          "start_time": "2023-06-13T09:48:47.068977Z"
        },
        "id": "66e68f7a",
        "colab": {
          "base_uri": "https://localhost:8080/"
        },
        "outputId": "84798a17-f0e7-4d4a-8fed-2a65e6fb892c"
      },
      "outputs": [
        {
          "output_type": "stream",
          "name": "stdout",
          "text": [
            "\n"
          ]
        }
      ],
      "source": [
        "def is_even(x):\n",
        "  if x % 2 == 0:\n",
        "    return (bool(1))\n",
        "  else:\n",
        "    return (bool(0))\n",
        "print()"
      ],
      "id": "66e68f7a"
    },
    {
      "cell_type": "code",
      "execution_count": 2,
      "metadata": {
        "ExecuteTime": {
          "end_time": "2023-06-13T09:51:03.574283Z",
          "start_time": "2023-06-13T09:51:03.568715Z"
        },
        "id": "c60e04d1",
        "colab": {
          "base_uri": "https://localhost:8080/"
        },
        "outputId": "7745df14-7c37-4d51-ca5e-58a94718a259"
      },
      "outputs": [
        {
          "output_type": "execute_result",
          "data": {
            "text/plain": [
              "[False, True, False, False, True]"
            ]
          },
          "metadata": {},
          "execution_count": 2
        }
      ],
      "source": [
        "[is_even(digit) for digit in [101, 2002, 3043, 5015, 8222]]"
      ],
      "id": "c60e04d1"
    },
    {
      "cell_type": "markdown",
      "metadata": {
        "ExecuteTime": {
          "end_time": "2022-10-22T04:15:21.939494Z",
          "start_time": "2022-10-22T04:15:21.933981Z"
        },
        "id": "c094769a"
      },
      "source": [
        "2. Напишіть функцію `get_random_int_list`, яка приймає один аргумент - кількість чисел `n`, і повертає список, що містить `n` випадкових цілих чисел з діапазону від 0 до 100 включно. Для генерації випадкових чисел використовуйте модуль `random`.\n",
        "\n",
        "  **Вимоги до реалізації:**\n",
        "\n",
        "  - Функція повинна приймати один аргумент `n` - кількість чисел у списку.\n",
        "  - Для генерації випадкових чисел використовуйте функцію `random.randint(0, 100)`.\n",
        "  - Повернутий список має містити рівно `n` випадкових чисел.\n",
        "\n",
        "  **Приклади виклику функції та очікувані результати:**\n",
        "\n",
        "  1. **Приклад 1:**\n",
        "    - Виклик функції: `get_random_int_list(5)`\n",
        "    - Очікуваний результат: Список з 5 випадковими числами, наприклад, `[23, 77, 45, 8, 91]`. Кожен запуск може повертати різні числа через випадковість.\n",
        "\n",
        "  2. **Приклад 2:**\n",
        "    - Виклик функції: `get_random_int_list(3)`\n",
        "    - Очікуваний результат: Список з 3 випадковими числами, наприклад, `[64, 20, 37]`.\n",
        "\n",
        "  3. **Приклад 3:**\n",
        "    - Виклик функції: `get_random_int_list(0)`\n",
        "    - Очікуваний результат: Порожній список `[]`, оскільки було запитано 0 чисел.\n",
        "\n",
        "Продемонструйте результати робити функції запустивши код нижче."
      ],
      "id": "c094769a"
    },
    {
      "cell_type": "code",
      "source": [
        "from random import randint\n",
        "\n",
        "def get_random_int_list(x):\n",
        "  list=[]\n",
        "  if 0 < x <= 100:\n",
        "    for i in range(x):\n",
        "      list.append(randint(0,100))\n",
        "    return(list)\n",
        "  else:\n",
        "    return(list)\n",
        "print()"
      ],
      "metadata": {
        "id": "r7hWrg3IK1_b",
        "colab": {
          "base_uri": "https://localhost:8080/"
        },
        "outputId": "264eb025-2af9-4939-c201-eee6ec816b0a"
      },
      "id": "r7hWrg3IK1_b",
      "execution_count": 3,
      "outputs": [
        {
          "output_type": "stream",
          "name": "stdout",
          "text": [
            "\n"
          ]
        }
      ]
    },
    {
      "cell_type": "code",
      "execution_count": 4,
      "metadata": {
        "ExecuteTime": {
          "end_time": "2023-06-13T09:56:26.788341Z",
          "start_time": "2023-06-13T09:56:26.784436Z"
        },
        "id": "7948fe2d",
        "colab": {
          "base_uri": "https://localhost:8080/"
        },
        "outputId": "9d458e99-9d04-4363-e6f5-6afe1cc27d50"
      },
      "outputs": [
        {
          "output_type": "stream",
          "name": "stdout",
          "text": [
            "[78, 38, 20, 95, 58]\n",
            "[20, 14, 59]\n",
            "[]\n",
            "[29, 68, 56, 20, 30, 47, 99, 82]\n"
          ]
        }
      ],
      "source": [
        "for number in [5, 3, 0, 8]:\n",
        "  print(get_random_int_list(number))"
      ],
      "id": "7948fe2d"
    },
    {
      "cell_type": "markdown",
      "source": [
        "3. Створіть функцію `sum_numbers`, яка приймає довільну кількість числових аргументів і повертає їх суму. Функція повинна працювати з будь-якою кількістю числових аргументів, включаючи випадки, коли аргументів немає.\n",
        "\n",
        "  **Приклади виклику функції:**\n",
        "\n",
        "  1. `sum_numbers(1, 2, 3, 4)` повинно повернути `10`.\n",
        "  2. `sum_numbers(10, 20)` повинно повернути `30`.\n",
        "  3. `sum_numbers()` повинно повернути `0`.\n",
        "\n",
        "  **Вимоги до реалізації:**\n",
        "\n",
        "  - Функція має використовувати `*args` для прийому довільної кількості аргументів.\n",
        "  - Функція має правильно обробляти випадок, коли їй не передано жодного аргумента.\n",
        "\n",
        "  Продемонструйте результати робити функції запустивши її на наведених наборах нижче."
      ],
      "metadata": {
        "id": "xPlxqkpyFkti"
      },
      "id": "xPlxqkpyFkti"
    },
    {
      "cell_type": "code",
      "source": [
        "def sum_numbers(*args):\n",
        "  return sum(args)\n",
        "print()"
      ],
      "metadata": {
        "id": "WjjXB8MqK5Kt",
        "colab": {
          "base_uri": "https://localhost:8080/"
        },
        "outputId": "7cff72e0-26e2-4548-8e7e-9a8cf3eb0f81"
      },
      "id": "WjjXB8MqK5Kt",
      "execution_count": 5,
      "outputs": [
        {
          "output_type": "stream",
          "name": "stdout",
          "text": [
            "\n"
          ]
        }
      ]
    },
    {
      "cell_type": "code",
      "source": [
        "number_sets = [\n",
        "    (1, 2, 3, 4),\n",
        "    (10, 20),\n",
        "    (11, 12, 13),\n",
        "    (),\n",
        "    (-19, -164, 183)\n",
        "]"
      ],
      "metadata": {
        "id": "TyQnD-d1GNOM"
      },
      "execution_count": 6,
      "outputs": [],
      "id": "TyQnD-d1GNOM"
    },
    {
      "cell_type": "code",
      "source": [
        "for numbers in number_sets:\n",
        "    result = sum_numbers(*numbers)\n",
        "    print(f\"Сума чисел {numbers}: {result}\")"
      ],
      "metadata": {
        "id": "S_z07TQVLCQT",
        "colab": {
          "base_uri": "https://localhost:8080/"
        },
        "outputId": "125bdfa2-11a5-4489-8611-ac0ba33c830b"
      },
      "id": "S_z07TQVLCQT",
      "execution_count": 7,
      "outputs": [
        {
          "output_type": "stream",
          "name": "stdout",
          "text": [
            "Сума чисел (1, 2, 3, 4): 10\n",
            "Сума чисел (10, 20): 30\n",
            "Сума чисел (11, 12, 13): 36\n",
            "Сума чисел (): 0\n",
            "Сума чисел (-19, -164, 183): 0\n"
          ]
        }
      ]
    },
    {
      "cell_type": "markdown",
      "metadata": {
        "id": "d1769a5b"
      },
      "source": [
        "4. **Завдання на рефакторинг: Обчислення Індексу Маси Тіла (BMI).** Рефакторинг - стандартна практика при роботі зі своїм, чи чужим кодом в компанії. Тут ми дізнаємось, що це і попрактикуємось це робити.\n",
        "\n",
        "  У вашому розпорядженні є фрагмент коду, який обчислює [індекс маси тіла (BMI)](https://uk.wikipedia.org/wiki/%D0%86%D0%BD%D0%B4%D0%B5%D0%BA%D1%81_%D0%BC%D0%B0%D1%81%D0%B8_%D1%82%D1%96%D0%BB%D0%B0#:~:text=%D0%86%CC%81%D0%BD%D0%B4%D0%B5%D0%BA%D1%81%20%D0%BC%D0%B0%CC%81%D1%81%D0%B8%20%D1%82%D1%96%CC%81%D0%BB%D0%B0%20(%D0%86%D0%9C%D0%A2%2C%20%D0%B0%D0%BD%D0%B3%D0%BB,%D0%BD%D0%BE%D1%80%D0%BC%D0%B0%D0%BB%D1%8C%D0%BD%D0%BE%D1%8E%2C%20%D0%BD%D0%B0%D0%B4%D0%BC%D1%96%D1%80%D0%BD%D0%BE%D1%8E%20(%D0%BE%D0%B6%D0%B8%D1%80%D1%96%D0%BD%D0%BD%D1%8F%D0%BC) для п'яти осіб. Ваше завдання - рефакторити цей код, тобто оптимізувати його вигляд, виокремивши повторювані частини в окрему функцію. Мета рефакторингу - **зберегти функціонал існуючого коду**, але зробити його більш читабельним, зручним для розуміння та модифікації.   пʼяти осіб. Для обчислення індексу маси тіла треба розділити вагу на зріст, піднесений до квадрату.\n",
        "\n",
        "  Виділіть у функцію код, що дублюється (робить одні і ті ж самі операції, але з різними числами) так, аби результат збергісі **той самий**, але коду стало менше.\n",
        "\n",
        "  В кінці - запустіть свій відрефакторений фрагмент коду. Якщо Ваш код виводить не те ж саме, що наведений фрагмент до рефакторингу, завдання вважається не виконаним.\n",
        "\n",
        "  **Увага**: Це завдання - творче. Можна обгорнути даний код у функцію по-різному. Єдиної правильної відповіді нема. Буде перевірятись розуміння підходу \"винесення частин, що повторюються, у функцію\"."
      ],
      "id": "d1769a5b"
    },
    {
      "cell_type": "code",
      "execution_count": 8,
      "metadata": {
        "ExecuteTime": {
          "end_time": "2023-02-26T21:36:29.139957Z",
          "start_time": "2023-02-26T21:36:29.117743Z"
        },
        "id": "e0750a47",
        "colab": {
          "base_uri": "https://localhost:8080/"
        },
        "outputId": "8b32f355-2952-49fd-d1e6-13ab6996f6d3"
      },
      "outputs": [
        {
          "output_type": "stream",
          "name": "stdout",
          "text": [
            "bmi person1 = 30\n",
            "bmi person2 = 29\n",
            "bmi person3 = 29\n",
            "bmi person4 = 24\n",
            "bmi person5 = 28\n"
          ]
        }
      ],
      "source": [
        "person1 = [80, 1.62]\n",
        "person2 = [69, 1.53]\n",
        "person3 = [80, 1.66]\n",
        "person4 = [80, 1.79]\n",
        "person5 = [72, 1.60]\n",
        "\n",
        "bmi_person1 = int(person1[0] / person1[1]**2)\n",
        "print(\"bmi {} = {}\".format('person1', bmi_person1))\n",
        "\n",
        "bmi_person2 = int(person2[0] / person2[1]**2)\n",
        "print(\"bmi {} = {}\".format('person2', bmi_person2))\n",
        "\n",
        "bmi_person3 = int(person3[0] / person3[1]**2)\n",
        "print(\"bmi {} = {}\".format('person3', bmi_person3))\n",
        "\n",
        "bmi_person4 = int(person4[0] / person4[1]**2)\n",
        "print(\"bmi {} = {}\".format('person4', bmi_person4))\n",
        "\n",
        "bmi_person5 = int(person5[0] / person5[1]**2)\n",
        "print(\"bmi {} = {}\".format('person5', bmi_person5))"
      ],
      "id": "e0750a47"
    },
    {
      "cell_type": "code",
      "source": [
        "def calculate_bmi(weight, height):\n",
        "    return int(weight / height**2)\n",
        "\n",
        "persons = [\n",
        "    [80, 1.62],\n",
        "    [69, 1.53],\n",
        "    [80, 1.66],\n",
        "    [80, 1.79],\n",
        "    [72, 1.60]\n",
        "]\n",
        "\n",
        "for i, person in enumerate(persons, start=1):\n",
        "    bmi = calculate_bmi(*person)\n",
        "    print(f\"bmi person{i} = {bmi}\")\n"
      ],
      "metadata": {
        "colab": {
          "base_uri": "https://localhost:8080/"
        },
        "id": "wh7AVE7BU7m1",
        "outputId": "ab7adaf7-839c-4149-f6e5-f9640c6c0ca0"
      },
      "id": "wh7AVE7BU7m1",
      "execution_count": 9,
      "outputs": [
        {
          "output_type": "stream",
          "name": "stdout",
          "text": [
            "bmi person1 = 30\n",
            "bmi person2 = 29\n",
            "bmi person3 = 29\n",
            "bmi person4 = 24\n",
            "bmi person5 = 28\n"
          ]
        }
      ]
    }
  ],
  "metadata": {
    "kernelspec": {
      "display_name": "Python 3 (ipykernel)",
      "language": "python",
      "name": "python3"
    },
    "language_info": {
      "codemirror_mode": {
        "name": "ipython",
        "version": 3
      },
      "file_extension": ".py",
      "mimetype": "text/x-python",
      "name": "python",
      "nbconvert_exporter": "python",
      "pygments_lexer": "ipython3",
      "version": "3.10.4"
    },
    "toc": {
      "base_numbering": 1,
      "nav_menu": {},
      "number_sections": true,
      "sideBar": true,
      "skip_h1_title": false,
      "title_cell": "Table of Contents",
      "title_sidebar": "Contents",
      "toc_cell": false,
      "toc_position": {},
      "toc_section_display": true,
      "toc_window_display": false
    },
    "colab": {
      "provenance": [],
      "include_colab_link": true
    }
  },
  "nbformat": 4,
  "nbformat_minor": 5
}