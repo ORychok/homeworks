{
  "nbformat": 4,
  "nbformat_minor": 0,
  "metadata": {
    "colab": {
      "provenance": [],
      "include_colab_link": true
    },
    "kernelspec": {
      "name": "python3",
      "display_name": "Python 3"
    },
    "language_info": {
      "name": "python"
    }
  },
  "cells": [
    {
      "cell_type": "markdown",
      "metadata": {
        "id": "view-in-github",
        "colab_type": "text"
      },
      "source": [
        "<a href=\"https://colab.research.google.com/github/ORychok/homeworks/blob/main/Rychok_%222_1_%D0%A4%D1%83%D0%BD%D0%BA%D1%86%D1%96%D1%97%D1%97_%D0%9E%D1%81%D0%BD%D0%BE%D0%B2%D0%B8_ipynb%22.ipynb\" target=\"_parent\"><img src=\"https://colab.research.google.com/assets/colab-badge.svg\" alt=\"Open In Colab\"/></a>"
      ]
    },
    {
      "cell_type": "markdown",
      "source": [
        "# Домашнє завдання до теми \"Functions\""
      ],
      "metadata": {
        "id": "QtHabST6Ez_n"
      }
    },
    {
      "cell_type": "markdown",
      "source": [
        "1. Напишіть фукнцію `print_message`, яка виводить на екран \"Я програмую на Python💪\" і викличіть цю фукнцію 5 разів (найкраще це зробити в циклі).\n",
        "\n",
        "  **Увага**: фукнція має робити чітко лише зазначений функціонал. Наявність додаткового функціоналу і аргументів, які не потрібні для виконання безпосередньо завдання, буде вважатись помилкою."
      ],
      "metadata": {
        "id": "6pg_NzFq5_kO"
      }
    },
    {
      "cell_type": "code",
      "source": [
        "def print_message():\n",
        "  print('Я програмую на Python💪')\n",
        "\n",
        "for i in range(0,6):\n",
        "  print(print_message())"
      ],
      "metadata": {
        "id": "RbXsfwI_D8ql",
        "colab": {
          "base_uri": "https://localhost:8080/"
        },
        "outputId": "b5d0dd7e-b7d3-42bc-f94d-bf9f60a8dcbd"
      },
      "execution_count": 1,
      "outputs": [
        {
          "output_type": "stream",
          "name": "stdout",
          "text": [
            "Я програмую на Python💪\n",
            "None\n",
            "Я програмую на Python💪\n",
            "None\n",
            "Я програмую на Python💪\n",
            "None\n",
            "Я програмую на Python💪\n",
            "None\n",
            "Я програмую на Python💪\n",
            "None\n",
            "Я програмую на Python💪\n",
            "None\n"
          ]
        }
      ]
    },
    {
      "cell_type": "markdown",
      "source": [
        "2. Напишіть функцію `calculation` яка приймає на вхід 4 аргументи типу int - `a`, `b`, `c`, `d` і вертає результат обчислення такої формули: $ (a + b - c) * d $.\n",
        "\n",
        "  Викличте функцію на наступному наборі аргументів і виведіть результат на екран:\n",
        "  ```\n",
        "  a = 16\n",
        "  b = 4\n",
        "  c = 9\n",
        "  d = 3\n",
        "  ```"
      ],
      "metadata": {
        "id": "oyRpWRXWBL9N"
      }
    },
    {
      "cell_type": "code",
      "source": [
        "def calculation(a: int, b: int, c: int, d: int,):\n",
        "  return (a + b - c) * d\n",
        "\n",
        "calculation(16, 4 , 9, 3)"
      ],
      "metadata": {
        "id": "Ggt2tx6kD-LS",
        "colab": {
          "base_uri": "https://localhost:8080/"
        },
        "outputId": "2a8c9404-92bd-4357-9cb0-af8689fb7d04"
      },
      "execution_count": 2,
      "outputs": [
        {
          "output_type": "execute_result",
          "data": {
            "text/plain": [
              "33"
            ]
          },
          "metadata": {},
          "execution_count": 2
        }
      ]
    },
    {
      "cell_type": "markdown",
      "source": [
        "3. Напишіть функцію, яка додає до аргумента 15 і вертає результат додавання. Викличте функцію, передаючи в якості аргументів кожну з наступних змінних по черзі, і виведіть кожного разу результат на екран.\n",
        "```\n",
        "x = 9\n",
        "y = 14\n",
        "z = -19\n",
        "```"
      ],
      "metadata": {
        "id": "5hf1CbllDU_t"
      }
    },
    {
      "cell_type": "code",
      "source": [
        "def calc2(x):\n",
        "  return x + 15\n",
        "\n",
        "display(calc2(9),\n",
        "        calc2(14),\n",
        "        calc2(-19))"
      ],
      "metadata": {
        "id": "GvEs_nUtD_Cd",
        "colab": {
          "base_uri": "https://localhost:8080/",
          "height": 68
        },
        "outputId": "810129c9-b333-4496-fe51-e1e3bb3bbad2"
      },
      "execution_count": 3,
      "outputs": [
        {
          "output_type": "display_data",
          "data": {
            "text/plain": [
              "24"
            ]
          },
          "metadata": {}
        },
        {
          "output_type": "display_data",
          "data": {
            "text/plain": [
              "29"
            ]
          },
          "metadata": {}
        },
        {
          "output_type": "display_data",
          "data": {
            "text/plain": [
              "-4"
            ]
          },
          "metadata": {}
        }
      ]
    },
    {
      "cell_type": "markdown",
      "source": [
        "4. Напишіть функцію `multipy_numbers`, яка приймає два числа як аргументи і повертає їх добуток.\n",
        "\n",
        "  Викличіть функцію `multipy_numbers` на парах чисел\n",
        "    - 10 і 2\n",
        "    - 7 і 8\n",
        "    - 1024 і 999.\n",
        "  \n",
        "  Виведіть результат кожного виклику.\n",
        "  При виконанні цього завдання з використанням циклу - отримаєте 2х балів за нього :)"
      ],
      "metadata": {
        "id": "bUuVBhie53uK"
      }
    },
    {
      "cell_type": "code",
      "source": [
        "def multiply_numbers(x, y):\n",
        "  return x * y\n",
        "\n",
        "list = [[10,2],[7,8],[1024,999]]\n",
        "\n",
        "for i in list:\n",
        "  display(multiply_numbers(i[0],i[1]))"
      ],
      "metadata": {
        "id": "cDqrgZ4YEAKj",
        "colab": {
          "base_uri": "https://localhost:8080/",
          "height": 68
        },
        "outputId": "6f419d49-a46a-44e2-9849-42d9e4f066ce"
      },
      "execution_count": 4,
      "outputs": [
        {
          "output_type": "display_data",
          "data": {
            "text/plain": [
              "20"
            ]
          },
          "metadata": {}
        },
        {
          "output_type": "display_data",
          "data": {
            "text/plain": [
              "56"
            ]
          },
          "metadata": {}
        },
        {
          "output_type": "display_data",
          "data": {
            "text/plain": [
              "1022976"
            ]
          },
          "metadata": {}
        }
      ]
    },
    {
      "cell_type": "markdown",
      "source": [
        "5. **Ділення з перевіркою типів.**  \n",
        "\n",
        "  1. Напишіть функцію `int_division` яка приймає на вхід два аргументи типу `int` - `a` і `b`, і виконує ділення першого аргумента на другий: `a/b`. При цьому функція перед діленням перевіряє, чи другий аргумент не дорівнює 0. Якщо другий аргумент не 0, фукнція вертає результат ділення, інакше - замість виконання ділення, вертає повідомлення на екран \"Не можу виконати ділення на 0\".\n",
        "\n",
        "    Якщо типи, надані у функцію, не `int` - функція виводить повідомлення \"Не працюю з такими типами даних.\".\n",
        "\n",
        "  2. Запустіть функцію на наступних парах чисел:\n",
        "  - 12 і 6\n",
        "  - 20 і 0\n",
        "  - 112 і 10\n",
        "  - 99 і 0\n",
        "  - 11 i 1.1\n",
        "\n",
        "    і виведіть на екран повідомлення \"Результат роботи функції: \" - і далі те, що повернула функція.\n",
        "\n",
        "  3. Дайте відповідь на питання: \"Чому в деяких випадках функція повернула None?\""
      ],
      "metadata": {
        "id": "I03t46k27dDZ"
      }
    },
    {
      "cell_type": "code",
      "source": [
        "def int_division(a: int, b: int):\n",
        "  if type(a) == int and type(b) == int:\n",
        "    if b != 0:\n",
        "      return a / b\n",
        "    else:\n",
        "      print('Результат роботи функції: Не можу виконати ділення на 0')\n",
        "  else:\n",
        "    print('Результат роботи функції: Не працюю з такими типами даних')"
      ],
      "metadata": {
        "id": "1-EQhxrAEEAb"
      },
      "execution_count": 5,
      "outputs": []
    },
    {
      "cell_type": "code",
      "source": [
        "print(int_division(12,6))"
      ],
      "metadata": {
        "colab": {
          "base_uri": "https://localhost:8080/"
        },
        "id": "sDU9s9ggDndz",
        "outputId": "f4c1cd26-78f3-452f-8317-dc2f73e3092d"
      },
      "execution_count": 6,
      "outputs": [
        {
          "output_type": "stream",
          "name": "stdout",
          "text": [
            "2.0\n"
          ]
        }
      ]
    },
    {
      "cell_type": "code",
      "source": [
        "print(int_division(20,0))"
      ],
      "metadata": {
        "colab": {
          "base_uri": "https://localhost:8080/"
        },
        "id": "8sO7DHiUETqT",
        "outputId": "98df42df-398a-49e1-c3a7-0fd56044861d"
      },
      "execution_count": 7,
      "outputs": [
        {
          "output_type": "stream",
          "name": "stdout",
          "text": [
            "Результат роботи функції: Не можу виконати ділення на 0\n",
            "None\n"
          ]
        }
      ]
    },
    {
      "cell_type": "code",
      "source": [
        "print(int_division(112,10))"
      ],
      "metadata": {
        "colab": {
          "base_uri": "https://localhost:8080/"
        },
        "id": "cO3KEINJEWH-",
        "outputId": "614faac0-4b3d-4112-a917-770d2b3a4cfa"
      },
      "execution_count": 8,
      "outputs": [
        {
          "output_type": "stream",
          "name": "stdout",
          "text": [
            "11.2\n"
          ]
        }
      ]
    },
    {
      "cell_type": "code",
      "source": [
        "print(int_division(99,0))"
      ],
      "metadata": {
        "colab": {
          "base_uri": "https://localhost:8080/"
        },
        "id": "1fmdbbEWEWUw",
        "outputId": "3d245881-95cf-4c3e-f288-431f557551bf"
      },
      "execution_count": 9,
      "outputs": [
        {
          "output_type": "stream",
          "name": "stdout",
          "text": [
            "Результат роботи функції: Не можу виконати ділення на 0\n",
            "None\n"
          ]
        }
      ]
    },
    {
      "cell_type": "code",
      "source": [
        "print(int_division(11,1.1))"
      ],
      "metadata": {
        "colab": {
          "base_uri": "https://localhost:8080/"
        },
        "id": "NJ-31D55EWpk",
        "outputId": "7ffeb600-3e61-4219-ab68-71c270c42083"
      },
      "execution_count": 10,
      "outputs": [
        {
          "output_type": "stream",
          "name": "stdout",
          "text": [
            "Результат роботи функції: Не працюю з такими типами даних\n",
            "None\n"
          ]
        }
      ]
    },
    {
      "cell_type": "code",
      "source": [
        "# Чому в деяких випадках функція повернула None? З візуалізатора стало зрозуміло, що None означає Return value, якого по суті не існує в певних випадках (наприклад, ділення на 0)."
      ],
      "metadata": {
        "id": "zBMfVGJAEtDu"
      },
      "execution_count": 11,
      "outputs": []
    }
  ]
}